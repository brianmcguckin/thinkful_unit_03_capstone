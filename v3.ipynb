{
 "cells": [
  {
   "cell_type": "code",
   "execution_count": 1,
   "metadata": {},
   "outputs": [],
   "source": [
    "#imports\n",
    "import numpy as np\n",
    "import pandas as pd\n",
    "import matplotlib.pyplot as plt\n",
    "import seaborn as sns\n",
    "import time\n",
    "import warnings\n",
    "\n",
    "from scipy import stats\n",
    "from scipy.stats import norm\n",
    "\n",
    "from sklearn.model_selection import train_test_split, cross_val_score, GridSearchCV\n",
    "from sklearn.metrics import mean_squared_error\n",
    "from sklearn import linear_model, ensemble\n",
    "from sklearn.linear_model import LinearRegression, Ridge, RidgeCV, Lasso, LassoCV\n",
    "from sklearn.preprocessing import StandardScaler\n",
    "from sklearn.svm import SVR\n",
    "\n",
    "from xgboost import XGBRegressor\n",
    "\n",
    "warnings.filterwarnings('ignore')\n",
    "%matplotlib inline"
   ]
  },
  {
   "cell_type": "code",
   "execution_count": 2,
   "metadata": {},
   "outputs": [],
   "source": [
    "#set seaborn plot display options\n",
    "sns.set(style='whitegrid', palette='muted', font_scale=1.3)\n",
    "\n",
    "#color variables incase they're needed\n",
    "color_b = sns.color_palette('muted').as_hex()[0]\n",
    "color_g = sns.color_palette('muted').as_hex()[1]\n",
    "color_r = sns.color_palette('muted').as_hex()[2]\n",
    "color_p = sns.color_palette('muted').as_hex()[3]\n",
    "color_y = sns.color_palette('muted').as_hex()[4]\n",
    "color_c = sns.color_palette('muted').as_hex()[5]"
   ]
  },
  {
   "cell_type": "markdown",
   "metadata": {},
   "source": [
    "# 0. Introduction\n",
    "\n",
    "## 0.1 Research Proposal\n",
    "- __Goal:__ predict house sale prices\n",
    "- Why is this a good topic to study?\n",
    "- What are some challenges to this topic?\n",
    "\n",
    "## 0.2 Method\n",
    "1. Develop & train a model to predict saleprice\n",
    "2. Evaluation method: root mean squared error (RMSE) between the log of the predicted value and the log of the observed sales price\n",
    "3. RMSE: absolute measure of fit, can compare across different models (r-squared is relative fit, increases as model complexity grows, so cannot compare across models)"
   ]
  },
  {
   "cell_type": "markdown",
   "metadata": {},
   "source": [
    "# 1. Dataset: Ames, Iowa Housing Market Data"
   ]
  },
  {
   "cell_type": "markdown",
   "metadata": {},
   "source": [
    "## 1.1 Dataset background\n",
    "\n",
    "__Abstract Excerpt:__\n",
    "\n",
    "This paper presents a data set describing the sale of individual residential property in Ames, Iowa from 2006 to 2010. The data set contains 2930 observations and a large number of explanatory variables (23 nominal, 23 ordinal, 14 discrete, and 20 continuous) involved in assessing home values.\n",
    "\n",
    "__Full Description:__\n",
    "\n",
    "https://ww2.amstat.org/publications/jse/v19n3/decock.pdf\n",
    "\n",
    "__Data Source:__\n",
    "\n",
    "https://www.kaggle.com/c/house-prices-advanced-regression-techniques/data\n",
    "\n",
    "Kaggle API: >_ kaggle competitions download -c house-prices-advanced-regression-techniques"
   ]
  },
  {
   "cell_type": "markdown",
   "metadata": {},
   "source": [
    "## 1.2 Upload Data"
   ]
  },
  {
   "cell_type": "code",
   "execution_count": 3,
   "metadata": {},
   "outputs": [
    {
     "data": {
      "text/html": [
       "<div>\n",
       "<style scoped>\n",
       "    .dataframe tbody tr th:only-of-type {\n",
       "        vertical-align: middle;\n",
       "    }\n",
       "\n",
       "    .dataframe tbody tr th {\n",
       "        vertical-align: top;\n",
       "    }\n",
       "\n",
       "    .dataframe thead th {\n",
       "        text-align: right;\n",
       "    }\n",
       "</style>\n",
       "<table border=\"1\" class=\"dataframe\">\n",
       "  <thead>\n",
       "    <tr style=\"text-align: right;\">\n",
       "      <th></th>\n",
       "      <th>Id</th>\n",
       "      <th>MSSubClass</th>\n",
       "      <th>MSZoning</th>\n",
       "      <th>LotFrontage</th>\n",
       "      <th>LotArea</th>\n",
       "      <th>Street</th>\n",
       "      <th>Alley</th>\n",
       "      <th>LotShape</th>\n",
       "      <th>LandContour</th>\n",
       "      <th>Utilities</th>\n",
       "      <th>...</th>\n",
       "      <th>PoolArea</th>\n",
       "      <th>PoolQC</th>\n",
       "      <th>Fence</th>\n",
       "      <th>MiscFeature</th>\n",
       "      <th>MiscVal</th>\n",
       "      <th>MoSold</th>\n",
       "      <th>YrSold</th>\n",
       "      <th>SaleType</th>\n",
       "      <th>SaleCondition</th>\n",
       "      <th>SalePrice</th>\n",
       "    </tr>\n",
       "  </thead>\n",
       "  <tbody>\n",
       "    <tr>\n",
       "      <th>0</th>\n",
       "      <td>1</td>\n",
       "      <td>60</td>\n",
       "      <td>RL</td>\n",
       "      <td>65.0</td>\n",
       "      <td>8450</td>\n",
       "      <td>Pave</td>\n",
       "      <td>NaN</td>\n",
       "      <td>Reg</td>\n",
       "      <td>Lvl</td>\n",
       "      <td>AllPub</td>\n",
       "      <td>...</td>\n",
       "      <td>0</td>\n",
       "      <td>NaN</td>\n",
       "      <td>NaN</td>\n",
       "      <td>NaN</td>\n",
       "      <td>0</td>\n",
       "      <td>2</td>\n",
       "      <td>2008</td>\n",
       "      <td>WD</td>\n",
       "      <td>Normal</td>\n",
       "      <td>208500</td>\n",
       "    </tr>\n",
       "    <tr>\n",
       "      <th>1</th>\n",
       "      <td>2</td>\n",
       "      <td>20</td>\n",
       "      <td>RL</td>\n",
       "      <td>80.0</td>\n",
       "      <td>9600</td>\n",
       "      <td>Pave</td>\n",
       "      <td>NaN</td>\n",
       "      <td>Reg</td>\n",
       "      <td>Lvl</td>\n",
       "      <td>AllPub</td>\n",
       "      <td>...</td>\n",
       "      <td>0</td>\n",
       "      <td>NaN</td>\n",
       "      <td>NaN</td>\n",
       "      <td>NaN</td>\n",
       "      <td>0</td>\n",
       "      <td>5</td>\n",
       "      <td>2007</td>\n",
       "      <td>WD</td>\n",
       "      <td>Normal</td>\n",
       "      <td>181500</td>\n",
       "    </tr>\n",
       "    <tr>\n",
       "      <th>2</th>\n",
       "      <td>3</td>\n",
       "      <td>60</td>\n",
       "      <td>RL</td>\n",
       "      <td>68.0</td>\n",
       "      <td>11250</td>\n",
       "      <td>Pave</td>\n",
       "      <td>NaN</td>\n",
       "      <td>IR1</td>\n",
       "      <td>Lvl</td>\n",
       "      <td>AllPub</td>\n",
       "      <td>...</td>\n",
       "      <td>0</td>\n",
       "      <td>NaN</td>\n",
       "      <td>NaN</td>\n",
       "      <td>NaN</td>\n",
       "      <td>0</td>\n",
       "      <td>9</td>\n",
       "      <td>2008</td>\n",
       "      <td>WD</td>\n",
       "      <td>Normal</td>\n",
       "      <td>223500</td>\n",
       "    </tr>\n",
       "    <tr>\n",
       "      <th>3</th>\n",
       "      <td>4</td>\n",
       "      <td>70</td>\n",
       "      <td>RL</td>\n",
       "      <td>60.0</td>\n",
       "      <td>9550</td>\n",
       "      <td>Pave</td>\n",
       "      <td>NaN</td>\n",
       "      <td>IR1</td>\n",
       "      <td>Lvl</td>\n",
       "      <td>AllPub</td>\n",
       "      <td>...</td>\n",
       "      <td>0</td>\n",
       "      <td>NaN</td>\n",
       "      <td>NaN</td>\n",
       "      <td>NaN</td>\n",
       "      <td>0</td>\n",
       "      <td>2</td>\n",
       "      <td>2006</td>\n",
       "      <td>WD</td>\n",
       "      <td>Abnorml</td>\n",
       "      <td>140000</td>\n",
       "    </tr>\n",
       "    <tr>\n",
       "      <th>4</th>\n",
       "      <td>5</td>\n",
       "      <td>60</td>\n",
       "      <td>RL</td>\n",
       "      <td>84.0</td>\n",
       "      <td>14260</td>\n",
       "      <td>Pave</td>\n",
       "      <td>NaN</td>\n",
       "      <td>IR1</td>\n",
       "      <td>Lvl</td>\n",
       "      <td>AllPub</td>\n",
       "      <td>...</td>\n",
       "      <td>0</td>\n",
       "      <td>NaN</td>\n",
       "      <td>NaN</td>\n",
       "      <td>NaN</td>\n",
       "      <td>0</td>\n",
       "      <td>12</td>\n",
       "      <td>2008</td>\n",
       "      <td>WD</td>\n",
       "      <td>Normal</td>\n",
       "      <td>250000</td>\n",
       "    </tr>\n",
       "  </tbody>\n",
       "</table>\n",
       "<p>5 rows × 81 columns</p>\n",
       "</div>"
      ],
      "text/plain": [
       "   Id  MSSubClass MSZoning  LotFrontage  LotArea Street Alley LotShape  \\\n",
       "0   1          60       RL         65.0     8450   Pave   NaN      Reg   \n",
       "1   2          20       RL         80.0     9600   Pave   NaN      Reg   \n",
       "2   3          60       RL         68.0    11250   Pave   NaN      IR1   \n",
       "3   4          70       RL         60.0     9550   Pave   NaN      IR1   \n",
       "4   5          60       RL         84.0    14260   Pave   NaN      IR1   \n",
       "\n",
       "  LandContour Utilities    ...     PoolArea PoolQC Fence MiscFeature MiscVal  \\\n",
       "0         Lvl    AllPub    ...            0    NaN   NaN         NaN       0   \n",
       "1         Lvl    AllPub    ...            0    NaN   NaN         NaN       0   \n",
       "2         Lvl    AllPub    ...            0    NaN   NaN         NaN       0   \n",
       "3         Lvl    AllPub    ...            0    NaN   NaN         NaN       0   \n",
       "4         Lvl    AllPub    ...            0    NaN   NaN         NaN       0   \n",
       "\n",
       "  MoSold YrSold  SaleType  SaleCondition  SalePrice  \n",
       "0      2   2008        WD         Normal     208500  \n",
       "1      5   2007        WD         Normal     181500  \n",
       "2      9   2008        WD         Normal     223500  \n",
       "3      2   2006        WD        Abnorml     140000  \n",
       "4     12   2008        WD         Normal     250000  \n",
       "\n",
       "[5 rows x 81 columns]"
      ]
     },
     "execution_count": 3,
     "metadata": {},
     "output_type": "execute_result"
    }
   ],
   "source": [
    "train_raw = pd.read_csv('train.csv')\n",
    "train_raw.head()"
   ]
  },
  {
   "cell_type": "markdown",
   "metadata": {},
   "source": [
    "# 2. EDA, Data Preprocessing, and Feature Selection/Engineering"
   ]
  },
  {
   "cell_type": "markdown",
   "metadata": {},
   "source": [
    "## 2.1 Basic Cleaning"
   ]
  },
  {
   "cell_type": "code",
   "execution_count": 4,
   "metadata": {},
   "outputs": [],
   "source": [
    "#set df to manipulate, leave raws accessible\n",
    "train = train_raw.copy()\n",
    "\n",
    "#lowercase column names\n",
    "train.columns = [x.lower() for x in train.columns]\n",
    "\n",
    "#strip whitespace\n",
    "to_strip = train.select_dtypes(include='object')\n",
    "train[to_strip.columns] = to_strip.apply(lambda x: x.str.strip())"
   ]
  },
  {
   "cell_type": "markdown",
   "metadata": {},
   "source": [
    "## 2.2 Outliers\n",
    "\n",
    "The [dataset documentation](https://ww2.amstat.org/publications/jse/v19n3/decock.pdf) points out a few problematic outliers, and recommends removing records where grlivarea > 4000"
   ]
  },
  {
   "cell_type": "code",
   "execution_count": 5,
   "metadata": {},
   "outputs": [
    {
     "data": {
      "image/png": "[encoded data removed]",
      "text/plain": [
       "<matplotlib.figure.Figure at 0x1a0c8b39e8>"
      ]
     },
     "metadata": {},
     "output_type": "display_data"
    }
   ],
   "source": [
    "plt.figure(figsize=(12,6))\n",
    "plt.scatter(train['grlivarea'], train['saleprice'])\n",
    "plt.show()"
   ]
  },
  {
   "cell_type": "code",
   "execution_count": 6,
   "metadata": {},
   "outputs": [
    {
     "name": "stdout",
     "output_type": "stream",
     "text": [
      "3627\n"
     ]
    }
   ],
   "source": [
    "train = train[train.grlivarea < 4000]\n",
    "print(train.grlivarea.max())"
   ]
  },
  {
   "cell_type": "markdown",
   "metadata": {},
   "source": [
    "## 2.3 Missingness"
   ]
  },
  {
   "cell_type": "code",
   "execution_count": 7,
   "metadata": {},
   "outputs": [
    {
     "data": {
      "text/html": [
       "<div>\n",
       "<style scoped>\n",
       "    .dataframe tbody tr th:only-of-type {\n",
       "        vertical-align: middle;\n",
       "    }\n",
       "\n",
       "    .dataframe tbody tr th {\n",
       "        vertical-align: top;\n",
       "    }\n",
       "\n",
       "    .dataframe thead th {\n",
       "        text-align: right;\n",
       "    }\n",
       "</style>\n",
       "<table border=\"1\" class=\"dataframe\">\n",
       "  <thead>\n",
       "    <tr style=\"text-align: right;\">\n",
       "      <th></th>\n",
       "      <th>variable</th>\n",
       "      <th>rows_missing</th>\n",
       "    </tr>\n",
       "  </thead>\n",
       "  <tbody>\n",
       "    <tr>\n",
       "      <th>0</th>\n",
       "      <td>poolqc</td>\n",
       "      <td>1451</td>\n",
       "    </tr>\n",
       "    <tr>\n",
       "      <th>1</th>\n",
       "      <td>miscfeature</td>\n",
       "      <td>1402</td>\n",
       "    </tr>\n",
       "    <tr>\n",
       "      <th>2</th>\n",
       "      <td>alley</td>\n",
       "      <td>1365</td>\n",
       "    </tr>\n",
       "    <tr>\n",
       "      <th>3</th>\n",
       "      <td>fence</td>\n",
       "      <td>1176</td>\n",
       "    </tr>\n",
       "    <tr>\n",
       "      <th>4</th>\n",
       "      <td>fireplacequ</td>\n",
       "      <td>690</td>\n",
       "    </tr>\n",
       "    <tr>\n",
       "      <th>5</th>\n",
       "      <td>lotfrontage</td>\n",
       "      <td>259</td>\n",
       "    </tr>\n",
       "    <tr>\n",
       "      <th>6</th>\n",
       "      <td>garagecond</td>\n",
       "      <td>81</td>\n",
       "    </tr>\n",
       "    <tr>\n",
       "      <th>7</th>\n",
       "      <td>garagetype</td>\n",
       "      <td>81</td>\n",
       "    </tr>\n",
       "    <tr>\n",
       "      <th>8</th>\n",
       "      <td>garageyrblt</td>\n",
       "      <td>81</td>\n",
       "    </tr>\n",
       "    <tr>\n",
       "      <th>9</th>\n",
       "      <td>garagefinish</td>\n",
       "      <td>81</td>\n",
       "    </tr>\n",
       "    <tr>\n",
       "      <th>10</th>\n",
       "      <td>garagequal</td>\n",
       "      <td>81</td>\n",
       "    </tr>\n",
       "    <tr>\n",
       "      <th>11</th>\n",
       "      <td>bsmtexposure</td>\n",
       "      <td>38</td>\n",
       "    </tr>\n",
       "    <tr>\n",
       "      <th>12</th>\n",
       "      <td>bsmtfintype2</td>\n",
       "      <td>38</td>\n",
       "    </tr>\n",
       "    <tr>\n",
       "      <th>13</th>\n",
       "      <td>bsmtfintype1</td>\n",
       "      <td>37</td>\n",
       "    </tr>\n",
       "    <tr>\n",
       "      <th>14</th>\n",
       "      <td>bsmtcond</td>\n",
       "      <td>37</td>\n",
       "    </tr>\n",
       "    <tr>\n",
       "      <th>15</th>\n",
       "      <td>bsmtqual</td>\n",
       "      <td>37</td>\n",
       "    </tr>\n",
       "    <tr>\n",
       "      <th>16</th>\n",
       "      <td>masvnrarea</td>\n",
       "      <td>8</td>\n",
       "    </tr>\n",
       "    <tr>\n",
       "      <th>17</th>\n",
       "      <td>masvnrtype</td>\n",
       "      <td>8</td>\n",
       "    </tr>\n",
       "    <tr>\n",
       "      <th>18</th>\n",
       "      <td>electrical</td>\n",
       "      <td>1</td>\n",
       "    </tr>\n",
       "  </tbody>\n",
       "</table>\n",
       "</div>"
      ],
      "text/plain": [
       "        variable  rows_missing\n",
       "0         poolqc          1451\n",
       "1    miscfeature          1402\n",
       "2          alley          1365\n",
       "3          fence          1176\n",
       "4    fireplacequ           690\n",
       "5    lotfrontage           259\n",
       "6     garagecond            81\n",
       "7     garagetype            81\n",
       "8    garageyrblt            81\n",
       "9   garagefinish            81\n",
       "10    garagequal            81\n",
       "11  bsmtexposure            38\n",
       "12  bsmtfintype2            38\n",
       "13  bsmtfintype1            37\n",
       "14      bsmtcond            37\n",
       "15      bsmtqual            37\n",
       "16    masvnrarea             8\n",
       "17    masvnrtype             8\n",
       "18    electrical             1"
      ]
     },
     "execution_count": 7,
     "metadata": {},
     "output_type": "execute_result"
    }
   ],
   "source": [
    "#see whats missing\n",
    "missing_data = train.isnull().sum().sort_values(ascending=False)\n",
    "missing_data = missing_data.reset_index()\n",
    "missing_data.columns = ['variable','rows_missing']\n",
    "missing_data = missing_data[missing_data['rows_missing'] > 0]\n",
    "missing_data"
   ]
  },
  {
   "cell_type": "markdown",
   "metadata": {},
   "source": [
    "### Missing value handling: NA indicates lack of feature\n",
    "\n",
    "- poolqc: pool quality\n",
    "- miscfeature: miscellaneous feature not covered in other categories\n",
    "- alley: type of alley access to property\n",
    "- fence: fence quality\n",
    "- fireplacequ: fireplace quality\n",
    "- garagecond: garage condition\n",
    "- garagetype: garage location\n",
    "- garageyrblt: year garage was built\n",
    "- garagefinish: interior finish of garage\n",
    "- garagequal: garage quality\n",
    "- bsmtexposure: refers to walkout or garden level walls\n",
    "- bsmtfintype1: rating of basement finished area\n",
    "- bsmtfintype2: rating of basement finished area (if multiple types)\n",
    "- bsmtcond: evaluates the general condition of the basement\n",
    "- bsmtqual: evaluates the height of the basement (in inches, Excellent >= 100, Poor < 70)\n",
    "- masvnrtype: masonry veneer type\n",
    "- masvnrarea: masonry veneer area in square feet\n",
    "\n",
    "__Action:__ impute no_feature or 0 (descriptions are available in the 'data_description.txt' file)"
   ]
  },
  {
   "cell_type": "code",
   "execution_count": 8,
   "metadata": {},
   "outputs": [],
   "source": [
    "#handle missing values, easy part\n",
    "train['poolqc'].fillna('none', inplace=True)\n",
    "train['miscfeature'].fillna('none', inplace=True)\n",
    "train['alley'].fillna('none', inplace=True)\n",
    "train['fence'].fillna('none', inplace=True)\n",
    "train['fireplacequ'].fillna('none', inplace=True)\n",
    "train['garagecond'].fillna('none', inplace=True) #consider revisiting\n",
    "train['garagetype'].fillna('none', inplace=True)\n",
    "train['garagefinish'].fillna('none', inplace=True)\n",
    "train['garagequal'].fillna('none', inplace=True)\n",
    "train['garageyrblt'].fillna(0, inplace=True)\n",
    "train['bsmtexposure'].fillna('none', inplace=True)\n",
    "train['bsmtfintype1'].fillna('none', inplace=True)\n",
    "train['bsmtfintype2'].fillna('none', inplace=True)\n",
    "train['bsmtcond'].fillna('none', inplace=True)\n",
    "train['bsmtqual'].fillna('none', inplace=True)\n",
    "train['masvnrtype'].fillna('none', inplace=True)\n",
    "train['masvnrarea'].fillna(0, inplace=True)"
   ]
  },
  {
   "cell_type": "markdown",
   "metadata": {},
   "source": [
    "### Missing value handling: electrical variable\n",
    "electrical: electrical system, can be one of the following\n",
    "- SBrkr: Standard Circuit Breakers & Romex\n",
    "- FuseA: Fuse Box over 60 AMP and all Romex wiring (Average)\t\n",
    "- FuseF: 60 AMP Fuse Box and mostly Romex wiring (Fair)\n",
    "- FuseP: 60 AMP Fuse Box and mostly knob elect & tube wiring (poor)\n",
    "- Mix: Mixed"
   ]
  },
  {
   "cell_type": "code",
   "execution_count": 9,
   "metadata": {},
   "outputs": [
    {
     "name": "stdout",
     "output_type": "stream",
     "text": [
      "SBrkr    1330\n",
      "FuseA      94\n",
      "FuseF      27\n",
      "FuseP       3\n",
      "Mix         1\n",
      "NaN         1\n",
      "Name: electrical, dtype: int64\n"
     ]
    }
   ],
   "source": [
    "print(train['electrical'].value_counts(dropna=False))"
   ]
  },
  {
   "cell_type": "code",
   "execution_count": 10,
   "metadata": {},
   "outputs": [
    {
     "name": "stdout",
     "output_type": "stream",
     "text": [
      "SBrkr    1331\n",
      "FuseA      94\n",
      "FuseF      27\n",
      "FuseP       3\n",
      "Mix         1\n",
      "Name: electrical, dtype: int64\n"
     ]
    }
   ],
   "source": [
    "#impute with most common value\n",
    "train['electrical'].fillna('SBrkr', inplace=True)\n",
    "print(train['electrical'].value_counts(dropna=False))"
   ]
  },
  {
   "cell_type": "markdown",
   "metadata": {},
   "source": [
    "### Missing value handling: variable lotfrontage\n",
    "lotfrontage: linear feet of street connected to property"
   ]
  },
  {
   "cell_type": "code",
   "execution_count": 11,
   "metadata": {},
   "outputs": [
    {
     "name": "stdout",
     "output_type": "stream",
     "text": [
      "NaN      259\n",
      " 60.0    143\n",
      " 70.0     70\n",
      " 80.0     69\n",
      " 50.0     57\n",
      "Name: lotfrontage, dtype: int64\n"
     ]
    }
   ],
   "source": [
    "print(train['lotfrontage'].value_counts(\n",
    "    dropna=False).sort_values(ascending=False).head())"
   ]
  },
  {
   "cell_type": "markdown",
   "metadata": {},
   "source": [
    "Hard to believe that 259 residential properties were sold without connecting to a street\n",
    "- check against street access\n",
    "- check against lotarea\n",
    "- come up with strategy to impute"
   ]
  },
  {
   "cell_type": "code",
   "execution_count": 12,
   "metadata": {},
   "outputs": [
    {
     "name": "stdout",
     "output_type": "stream",
     "text": [
      "street value counts:\n",
      "Pave    1450\n",
      "Grvl       6\n",
      "Name: street, dtype: int64\n",
      "\n",
      "lotarea null values: \n",
      "0\n",
      "\n",
      "lotarea smallest lots\n",
      "1300    1\n",
      "1477    1\n",
      "1491    1\n",
      "1526    1\n",
      "1533    2\n",
      "Name: lotarea, dtype: int64\n"
     ]
    }
   ],
   "source": [
    "print('street value counts:')\n",
    "print(train['street'].value_counts(dropna=False))\n",
    "print('\\nlotarea null values: ')\n",
    "\n",
    "print(train['lotarea'].isnull().sum())\n",
    "#make sure there aren't unreasonably small lot sizes, could indicate data error\n",
    "print('\\nlotarea smallest lots')\n",
    "print(train['lotarea'].value_counts(dropna=False).sort_index().head())"
   ]
  },
  {
   "cell_type": "markdown",
   "metadata": {},
   "source": [
    "- Variables street and lotarea have no missing values\n",
    "- Since every record has some street access and lot square footage, lotfrontage nulls should be filled with something\n",
    "\n",
    "Could simply impute the mean, but we can be more creative than that:\n",
    "- investigate the relationship between lotfrontage and lotarea\n",
    "- Use this proportion to estimate lotfrontage from lotarea"
   ]
  },
  {
   "cell_type": "code",
   "execution_count": 13,
   "metadata": {},
   "outputs": [
    {
     "name": "stdout",
     "output_type": "stream",
     "text": [
      "lotfrontage:lotarea proportion:\n",
      "ratio mean: 0.00791\n",
      "ratio median: 0.00771\n",
      "ratio mode: 0.00833\n"
     ]
    }
   ],
   "source": [
    "temp_df = train.loc[:, (train.columns).isin(['lotfrontage', 'lotarea'])]\n",
    "temp_df['ratio'] = temp_df['lotfrontage'] / temp_df['lotarea']\n",
    "\n",
    "print('lotfrontage:lotarea proportion:')\n",
    "print('ratio mean: %.5f' % temp_df['ratio'].dropna().mean())\n",
    "print('ratio median: %.5f' % temp_df['ratio'].dropna().median())\n",
    "print('ratio mode: %.5f' % temp_df['ratio'].dropna().mode())"
   ]
  },
  {
   "cell_type": "markdown",
   "metadata": {},
   "source": [
    "- Mean, median, and mode are all about 0.008\n",
    "- Impute lotfrontage nulls with their lotarea * mean ratio to estimate lotfrontage"
   ]
  },
  {
   "cell_type": "code",
   "execution_count": 14,
   "metadata": {},
   "outputs": [
    {
     "data": {
      "text/plain": [
       "0"
      ]
     },
     "execution_count": 14,
     "metadata": {},
     "output_type": "execute_result"
    }
   ],
   "source": [
    "ratio_mean = (train['lotfrontage'] / train['lotarea']).mean()\n",
    "train['lotfrontage'].fillna(train['lotarea'] * ratio_mean, inplace=True)\n",
    "train['lotfrontage'].isnull().sum()"
   ]
  },
  {
   "cell_type": "markdown",
   "metadata": {},
   "source": [
    "## 2.4 Feature Engineering\n",
    "__To do list:__\n",
    "- Drop 'id' column, no helpful data, just record id numbers\n",
    "- Numerical features that are actually categorical: mssubclass, mosold\n",
    "- Currently mosold and yrsold are separate features, keep separate but also create new feature combining them\n",
    "- Variables that appear categorical but are ordinal\n",
    "    - See how logging later in the notebook handles these first\n",
    "    - ¿ set scales equal across (ie max 10 for all) ?\n",
    "    - ¿ standardscaler() ? \n",
    "- variable correlations:\n",
    "    - corr with sale price\n",
    "    - multicollinearity\n",
    "    - create features/PCA as necessary"
   ]
  },
  {
   "cell_type": "code",
   "execution_count": 15,
   "metadata": {},
   "outputs": [],
   "source": [
    "#drop id column\n",
    "train = train.drop(['id'], 1)"
   ]
  },
  {
   "cell_type": "code",
   "execution_count": 16,
   "metadata": {},
   "outputs": [],
   "source": [
    "#mssubclas to categorical\n",
    "train = train.replace(\n",
    "    {'mssubclass':{20:'subclasss20', 30:'subclass30', 40:'subclass40',\n",
    "                   45:'subclass45', 50:'subclass50', 60:'subclass60',\n",
    "                   70:'subclass70', 75:'subclass75', 80:'subclass80',\n",
    "                   85:'subclass85', 90:'subclass90', 120:'subclass120',\n",
    "                   150:'subclass150', 160:'subclass160', 180:'subclass180',\n",
    "                   190:'subclass190'},\n",
    "     'mosold':{1:'_01jan', 2:'_02feb', 3:'_03mar', 4:'_04apr', 5:'_05may',\n",
    "               6:'_06jun', 7:'_07jul', 8:'_08aug', 9:'_09sep', 10:'_10oct',\n",
    "               11:'_11nov', 12:'_12dec'}})"
   ]
  },
  {
   "cell_type": "code",
   "execution_count": 17,
   "metadata": {},
   "outputs": [],
   "source": [
    "#create yr/mo sold feature\n",
    "train['yrmo_sold'] = train.yrsold.astype(\n",
    "    str).str.cat(train.mosold.astype(str)) #.astype(int)"
   ]
  },
  {
   "cell_type": "code",
   "execution_count": 18,
   "metadata": {},
   "outputs": [],
   "source": [
    "#categorical to ordinal\n",
    "train = train.replace(\n",
    "    {'street':{'Grvl':1, 'Pave':2},\n",
    "     'alley':{'none':0, 'Grvl':1, 'Pave':2},\n",
    "     'utilities':{'ELO':1, 'NoSeWa':2, 'NoSewr':3, 'AllPub':4},\n",
    "     'exterqual':{'Po':1, 'Fa':2, 'TA':3, 'Gd':4, 'Ex':5},\n",
    "     'extercond':{'Po':1, 'Fa':2, 'TA':3, 'Gd':4, 'Ex':5},\n",
    "     'bsmtqual':{'none':0, 'Po':1, 'Fa':2, 'TA':3, 'Gd':4, 'Ex':5},\n",
    "     'bsmtcond':{'none':0, 'Po':1, 'Fa':2, 'TA':3, 'Gd':4, 'Ex':5},\n",
    "     'bsmtexposure':{'none':0, 'No':0, 'Mn':2, 'Av':3, 'Gd':4},\n",
    "     'bsmtfintype1':{'none':0, 'Unf':1, 'LwQ':2, 'Rec':3, 'BLQ':4, 'ALQ':5, 'GLQ':6},\n",
    "     'bsmtfintype2':{'none':0, 'Unf':1, 'LwQ':2, 'Rec':3, 'BLQ':4, 'ALQ':45, 'GLQ':6},\n",
    "     'heatingqc':{'Po':1, 'Fa':2, 'TA':3, 'Gd':4, 'Ex':5},\n",
    "     'kitchenqual':{'Po':1, 'Fa':2, 'TA':3, 'Gd':4, 'Ex':5},\n",
    "     'functional':{'Sal':1, 'Sev':2, 'Maj2':3, 'Maj1':4, 'Mod':5, 'Min2':6, 'Min1':7, 'Typ':8},\n",
    "     'fireplacequ':{'none':0, 'Po':1, 'Fa':2, 'TA':3, 'Gd':4, 'Ex':5},\n",
    "     'garagefinish':{'none':0, 'Unf':1, 'RFn':2, 'Fin':3},\n",
    "     'garagequal':{'none':0, 'Po':1, 'Fa':2, 'TA':3, 'Gd':4, 'Ex':5},\n",
    "     'garagecond':{'none':0, 'Po':1, 'Fa':2, 'TA':3, 'Gd':4, 'Ex':5},\n",
    "     'paveddrive':{'N':1, 'P':2, 'Y':2},\n",
    "     'poolqc':{'none':0, 'Fa':1, 'TA':2, 'Gd':3, 'Ex':4}})"
   ]
  },
  {
   "cell_type": "code",
   "execution_count": 19,
   "metadata": {},
   "outputs": [],
   "source": [
    "#possibly subjective\n",
    "#separate so easy to include or exclude (comment out)\n",
    "train = train.replace({'lotshape':{'IR3':1, 'IR2':2, 'IR1':3, 'Reg':4}})\n",
    "train = train.replace({'landcontour':{'Low':1, 'HLS':2, 'Bnk':3, 'Lvl':4}})\n",
    "#train = train.replace({'lotconfig':{}})\n",
    "#train = train.replace({'landslope':{'Gtl':1, 'Mod':2, 'Sev':3}})\n",
    "train = train.replace({'centralair':{'N':0, 'Y':1}})\n",
    "#train = train.replace({'garagetype':{'none':0, 'CarPort':1, 'Detchd':2},\n",
    "#                       'BuiltIn':3, 'Basment':4, 'Attchd':5, '2Types':6})\n",
    "\n",
    "#maybe split this into 2 features\n",
    "#train = train.replace('fenceqc':{'none':0, 'MnWw':1, 'GdWd':2, 'MnPrv'})"
   ]
  },
  {
   "cell_type": "markdown",
   "metadata": {},
   "source": [
    "Look into:\n",
    "- roofstyle\n",
    "- roofmat1\n",
    "- exterior1st\n",
    "- exterior2nd\n",
    "- masvnrtype\n",
    "- foundation"
   ]
  },
  {
   "cell_type": "code",
   "execution_count": 20,
   "metadata": {},
   "outputs": [],
   "source": [
    "#corrmat = train.corr()\n",
    "\n",
    "#plt.figure(figsize=(12,12))\n",
    "#sns.heatmap(corrmat, square=True)\n",
    "#plt.show()"
   ]
  },
  {
   "cell_type": "code",
   "execution_count": 21,
   "metadata": {},
   "outputs": [],
   "source": [
    "#feats_corr = corrmat['saleprice'].sort_values(ascending=False).tail(-1)\n",
    "#feats_corr = feats_corr[feats_corr > 0.25]\n",
    "#feats_corr"
   ]
  },
  {
   "cell_type": "markdown",
   "metadata": {},
   "source": [
    "__Square footage variables:__ grlivarea, totalbsmtsf, garagearea, 1stflrsf, bsmtfinsf1, openporchsf, wooddecksf, 2ndflrsf, bsmtunfsf are all positively correlated with saleprice to different extents\n",
    "- Drop garagearea: garagecars and garagearea say essentially the same thing, garagecars has higher correlation with saleprice and is a better measure of garage usefulness\n",
    "- Check collinearity of sf variables, remove and/or create features as necessary"
   ]
  },
  {
   "cell_type": "code",
   "execution_count": 22,
   "metadata": {},
   "outputs": [],
   "source": [
    "train = train.drop('garagearea', 1)"
   ]
  },
  {
   "cell_type": "code",
   "execution_count": 23,
   "metadata": {},
   "outputs": [],
   "source": [
    "#even though its not in this list, include bsmtfinsf2 here\n",
    "#sf_vars = train.loc[:, (train.columns).isin(['grlivarea', 'totalbsmtsf',\n",
    "#                                             '1stflrsf', 'bsmtfinsf1',\n",
    "#                                             'openporchsf', 'wooddecksf',\n",
    "#                                             '2ndflrsf', 'bsmtunfsf',\n",
    "#                                             'bsmtfinsf2'])]\n",
    "\n",
    "#plt.figure(figsize=(12,12))\n",
    "#sns.heatmap(sf_vars.corr(), square=True)\n",
    "#plt.show()"
   ]
  },
  {
   "cell_type": "code",
   "execution_count": 24,
   "metadata": {},
   "outputs": [],
   "source": [
    "#c = sf_vars.corr()\n",
    "#s = c.unstack()\n",
    "#so = pd.DataFrame(s.sort_values(ascending=False))\n",
    "#so = so.reset_index()\n",
    "#so.columns = ['var1', 'var2', 'corr']\n",
    "#so = so[so['corr'] < 1]\n",
    "#so = so[so['corr'] > 0.25]\n",
    "#so.drop_duplicates(subset='corr', keep='first', inplace=True)\n",
    "#so.sort_values(by='corr', ascending=False)"
   ]
  },
  {
   "cell_type": "markdown",
   "metadata": {},
   "source": [
    "### New features to create:\n",
    "- finished basement sf (bsmtfinsf1 + bsmtfinsf2)\n",
    "- ~~¿ maybe finished basement (1) or not finished (0) based on totalbsmtsf vs. finished & unfinished~~ - this is covered under bsmtfintype variables\n",
    "- PCA opportunity between grlivarea, 1stflrsf, 2ndflrsf, totalbsmtsf?"
   ]
  },
  {
   "cell_type": "code",
   "execution_count": 25,
   "metadata": {},
   "outputs": [],
   "source": [
    "#first make sure current sf variables add up as expected\n",
    "#print((train['bsmtfinsf1'] + train['bsmtfinsf2'] + train['bsmtunfsf'] == train['totalbsmtsf']).value_counts(dropna=False))\n",
    "#print((train['1stflrsf'] + train['2ndflrsf'] + train['lowqualfinsf'] == train['grlivarea']).value_counts(dropna=False))"
   ]
  },
  {
   "cell_type": "code",
   "execution_count": 26,
   "metadata": {},
   "outputs": [
    {
     "data": {
      "text/html": [
       "<div>\n",
       "<style scoped>\n",
       "    .dataframe tbody tr th:only-of-type {\n",
       "        vertical-align: middle;\n",
       "    }\n",
       "\n",
       "    .dataframe tbody tr th {\n",
       "        vertical-align: top;\n",
       "    }\n",
       "\n",
       "    .dataframe thead th {\n",
       "        text-align: right;\n",
       "    }\n",
       "</style>\n",
       "<table border=\"1\" class=\"dataframe\">\n",
       "  <thead>\n",
       "    <tr style=\"text-align: right;\">\n",
       "      <th></th>\n",
       "      <th>mssubclass</th>\n",
       "      <th>mszoning</th>\n",
       "      <th>lotfrontage</th>\n",
       "      <th>lotarea</th>\n",
       "      <th>street</th>\n",
       "      <th>alley</th>\n",
       "      <th>lotshape</th>\n",
       "      <th>landcontour</th>\n",
       "      <th>utilities</th>\n",
       "      <th>lotconfig</th>\n",
       "      <th>...</th>\n",
       "      <th>fence</th>\n",
       "      <th>miscfeature</th>\n",
       "      <th>miscval</th>\n",
       "      <th>mosold</th>\n",
       "      <th>yrsold</th>\n",
       "      <th>saletype</th>\n",
       "      <th>salecondition</th>\n",
       "      <th>saleprice</th>\n",
       "      <th>yrmo_sold</th>\n",
       "      <th>bsmtfinsf_total</th>\n",
       "    </tr>\n",
       "  </thead>\n",
       "  <tbody>\n",
       "    <tr>\n",
       "      <th>0</th>\n",
       "      <td>subclass60</td>\n",
       "      <td>RL</td>\n",
       "      <td>65.0</td>\n",
       "      <td>8450</td>\n",
       "      <td>2</td>\n",
       "      <td>0</td>\n",
       "      <td>4</td>\n",
       "      <td>4</td>\n",
       "      <td>4</td>\n",
       "      <td>Inside</td>\n",
       "      <td>...</td>\n",
       "      <td>none</td>\n",
       "      <td>none</td>\n",
       "      <td>0</td>\n",
       "      <td>_02feb</td>\n",
       "      <td>2008</td>\n",
       "      <td>WD</td>\n",
       "      <td>Normal</td>\n",
       "      <td>208500</td>\n",
       "      <td>2008_02feb</td>\n",
       "      <td>706</td>\n",
       "    </tr>\n",
       "    <tr>\n",
       "      <th>1</th>\n",
       "      <td>subclasss20</td>\n",
       "      <td>RL</td>\n",
       "      <td>80.0</td>\n",
       "      <td>9600</td>\n",
       "      <td>2</td>\n",
       "      <td>0</td>\n",
       "      <td>4</td>\n",
       "      <td>4</td>\n",
       "      <td>4</td>\n",
       "      <td>FR2</td>\n",
       "      <td>...</td>\n",
       "      <td>none</td>\n",
       "      <td>none</td>\n",
       "      <td>0</td>\n",
       "      <td>_05may</td>\n",
       "      <td>2007</td>\n",
       "      <td>WD</td>\n",
       "      <td>Normal</td>\n",
       "      <td>181500</td>\n",
       "      <td>2007_05may</td>\n",
       "      <td>978</td>\n",
       "    </tr>\n",
       "    <tr>\n",
       "      <th>2</th>\n",
       "      <td>subclass60</td>\n",
       "      <td>RL</td>\n",
       "      <td>68.0</td>\n",
       "      <td>11250</td>\n",
       "      <td>2</td>\n",
       "      <td>0</td>\n",
       "      <td>3</td>\n",
       "      <td>4</td>\n",
       "      <td>4</td>\n",
       "      <td>Inside</td>\n",
       "      <td>...</td>\n",
       "      <td>none</td>\n",
       "      <td>none</td>\n",
       "      <td>0</td>\n",
       "      <td>_09sep</td>\n",
       "      <td>2008</td>\n",
       "      <td>WD</td>\n",
       "      <td>Normal</td>\n",
       "      <td>223500</td>\n",
       "      <td>2008_09sep</td>\n",
       "      <td>486</td>\n",
       "    </tr>\n",
       "    <tr>\n",
       "      <th>3</th>\n",
       "      <td>subclass70</td>\n",
       "      <td>RL</td>\n",
       "      <td>60.0</td>\n",
       "      <td>9550</td>\n",
       "      <td>2</td>\n",
       "      <td>0</td>\n",
       "      <td>3</td>\n",
       "      <td>4</td>\n",
       "      <td>4</td>\n",
       "      <td>Corner</td>\n",
       "      <td>...</td>\n",
       "      <td>none</td>\n",
       "      <td>none</td>\n",
       "      <td>0</td>\n",
       "      <td>_02feb</td>\n",
       "      <td>2006</td>\n",
       "      <td>WD</td>\n",
       "      <td>Abnorml</td>\n",
       "      <td>140000</td>\n",
       "      <td>2006_02feb</td>\n",
       "      <td>216</td>\n",
       "    </tr>\n",
       "    <tr>\n",
       "      <th>4</th>\n",
       "      <td>subclass60</td>\n",
       "      <td>RL</td>\n",
       "      <td>84.0</td>\n",
       "      <td>14260</td>\n",
       "      <td>2</td>\n",
       "      <td>0</td>\n",
       "      <td>3</td>\n",
       "      <td>4</td>\n",
       "      <td>4</td>\n",
       "      <td>FR2</td>\n",
       "      <td>...</td>\n",
       "      <td>none</td>\n",
       "      <td>none</td>\n",
       "      <td>0</td>\n",
       "      <td>_12dec</td>\n",
       "      <td>2008</td>\n",
       "      <td>WD</td>\n",
       "      <td>Normal</td>\n",
       "      <td>250000</td>\n",
       "      <td>2008_12dec</td>\n",
       "      <td>655</td>\n",
       "    </tr>\n",
       "  </tbody>\n",
       "</table>\n",
       "<p>5 rows × 79 columns</p>\n",
       "</div>"
      ],
      "text/plain": [
       "    mssubclass mszoning  lotfrontage  lotarea  street  alley  lotshape  \\\n",
       "0   subclass60       RL         65.0     8450       2      0         4   \n",
       "1  subclasss20       RL         80.0     9600       2      0         4   \n",
       "2   subclass60       RL         68.0    11250       2      0         3   \n",
       "3   subclass70       RL         60.0     9550       2      0         3   \n",
       "4   subclass60       RL         84.0    14260       2      0         3   \n",
       "\n",
       "   landcontour  utilities lotconfig       ...        fence miscfeature  \\\n",
       "0            4          4    Inside       ...         none        none   \n",
       "1            4          4       FR2       ...         none        none   \n",
       "2            4          4    Inside       ...         none        none   \n",
       "3            4          4    Corner       ...         none        none   \n",
       "4            4          4       FR2       ...         none        none   \n",
       "\n",
       "  miscval  mosold yrsold saletype  salecondition  saleprice   yrmo_sold  \\\n",
       "0       0  _02feb   2008       WD         Normal     208500  2008_02feb   \n",
       "1       0  _05may   2007       WD         Normal     181500  2007_05may   \n",
       "2       0  _09sep   2008       WD         Normal     223500  2008_09sep   \n",
       "3       0  _02feb   2006       WD        Abnorml     140000  2006_02feb   \n",
       "4       0  _12dec   2008       WD         Normal     250000  2008_12dec   \n",
       "\n",
       "   bsmtfinsf_total  \n",
       "0              706  \n",
       "1              978  \n",
       "2              486  \n",
       "3              216  \n",
       "4              655  \n",
       "\n",
       "[5 rows x 79 columns]"
      ]
     },
     "execution_count": 26,
     "metadata": {},
     "output_type": "execute_result"
    }
   ],
   "source": [
    "#create bsmtfinsf_total\n",
    "train['bsmtfinsf_total'] = train['bsmtfinsf1'] + train['bsmtfinsf2']\n",
    "\n",
    "#drop original bsmt columns\n",
    "train = train.loc[:, ~(train.columns).isin(['bsmtfinsf1', 'bsmtfinsf2'])]\n",
    "\n",
    "train.head()"
   ]
  },
  {
   "cell_type": "markdown",
   "metadata": {},
   "source": [
    "## 2.5 Variable Distributions\n",
    "\n",
    "### Target Variable: saleprice"
   ]
  },
  {
   "cell_type": "code",
   "execution_count": 27,
   "metadata": {},
   "outputs": [
    {
     "data": {
      "image/png": "[encoded data removed]",
      "text/plain": [
       "<matplotlib.figure.Figure at 0x1a16248160>"
      ]
     },
     "metadata": {},
     "output_type": "display_data"
    },
    {
     "name": "stdout",
     "output_type": "stream",
     "text": [
      "NormaltestResult(statistic=460.3067960010808, pvalue=1.1108342380647651e-100)\n"
     ]
    }
   ],
   "source": [
    "plt.figure(figsize=(16,8))\n",
    "\n",
    "ax1 = plt.subplot(121)\n",
    "sns.distplot(train['saleprice'], ax=ax1, fit=norm)\n",
    "ax1.set_xlabel('saleprice', size=14)\n",
    "ax1.set_title('saleprice distribution', size=18)\n",
    "#text box\n",
    "props = dict(boxstyle='round', color='wheat', alpha=.6)\n",
    "textstr1 = 'skew: %f' % (train['saleprice'].skew())\n",
    "ax1.text(0.65, 0.95, textstr1, transform=ax1.transAxes, fontsize=14,\n",
    "        verticalalignment='top', bbox=props)\n",
    "\n",
    "ax2 = plt.subplot(122)\n",
    "stats.probplot(train['saleprice'], plot=ax2)\n",
    "ax2.set_title('saleprice probability plot')\n",
    "ax2.get_lines()[0].set_marker('.')\n",
    "ax2.get_lines()[0].set_markerfacecolor(color_b)\n",
    "ax2.get_lines()[0].set_markersize(10)\n",
    "ax2.get_lines()[1].set_linewidth(0)\n",
    "ax2.get_lines()[1].set_marker('.')\n",
    "ax2.get_lines()[1].set_markerfacecolor(color_r)\n",
    "ax2.get_lines()[1].set_markersize(10)\n",
    "\n",
    "plt.show()\n",
    "print(stats.normaltest(a=train['saleprice']))"
   ]
  },
  {
   "cell_type": "markdown",
   "metadata": {},
   "source": [
    "- saleprice is pretty far from normally distributed\n",
    "- See how log transformation looks"
   ]
  },
  {
   "cell_type": "code",
   "execution_count": 28,
   "metadata": {},
   "outputs": [
    {
     "name": "stdout",
     "output_type": "stream",
     "text": [
      "log: NormaltestResult(statistic=17.417871145375766, pvalue=0.0001651039020773473)\n",
      "log1p: NormaltestResult(statistic=17.41764459169927, pvalue=0.00016512260558467428)\n"
     ]
    }
   ],
   "source": [
    "print('log:', stats.normaltest(a=np.log(train['saleprice'])))\n",
    "print('log1p:', stats.normaltest(a=np.log1p(train['saleprice'])))"
   ]
  },
  {
   "cell_type": "markdown",
   "metadata": {},
   "source": [
    "- Log transforming saleprice results in a much more normal distribution\n",
    "- Both log & log1p give nearly identical resuls so I'll use log1p since it plays nicer with zero's and avoids a lot of potential '-inf' values (result of trying to log zero or negative)"
   ]
  },
  {
   "cell_type": "code",
   "execution_count": 29,
   "metadata": {},
   "outputs": [
    {
     "data": {
      "image/png": "[encoded data removed]",
      "text/plain": [
       "<matplotlib.figure.Figure at 0x1a16494e48>"
      ]
     },
     "metadata": {},
     "output_type": "display_data"
    },
    {
     "name": "stdout",
     "output_type": "stream",
     "text": [
      "NormaltestResult(statistic=17.41764459169927, pvalue=0.00016512260558467428)\n"
     ]
    }
   ],
   "source": [
    "train['saleprice'] = np.log1p(train['saleprice'])\n",
    "\n",
    "plt.figure(figsize=(16,8))\n",
    "\n",
    "ax1 = plt.subplot(121)\n",
    "sns.distplot(train['saleprice'], ax=ax1, fit=norm)\n",
    "ax1.set_xlabel('saleprice', size=14)\n",
    "ax1.set_title('saleprice distribution', size=18)\n",
    "#text box\n",
    "props = dict(boxstyle='round', color='wheat', alpha=.6)\n",
    "textstr1 = 'skew: %f' % (train['saleprice'].skew())\n",
    "ax1.text(0.65, 0.95, textstr1, transform=ax1.transAxes, fontsize=14,\n",
    "        verticalalignment='top', bbox=props)\n",
    "\n",
    "ax2 = plt.subplot(122)\n",
    "stats.probplot(train['saleprice'], plot=ax2)\n",
    "ax2.set_title('saleprice probability plot')\n",
    "ax2.get_lines()[0].set_marker('.')\n",
    "ax2.get_lines()[0].set_markerfacecolor(color_b)\n",
    "ax2.get_lines()[0].set_markersize(10)\n",
    "ax2.get_lines()[1].set_linewidth(0)\n",
    "ax2.get_lines()[1].set_marker('.')\n",
    "ax2.get_lines()[1].set_markerfacecolor(color_r)\n",
    "ax2.get_lines()[1].set_markersize(10)\n",
    "\n",
    "plt.show()\n",
    "print(stats.normaltest(a=train['saleprice']))"
   ]
  },
  {
   "cell_type": "markdown",
   "metadata": {},
   "source": [
    "### Further transformations\n",
    "#### Numeric Variables\n",
    "Since target variable saleprice has been log-transformed, model interpretability gets a little complicated unless other numeric features are log-transformed as well.\n",
    "- Not basing this on a skew threshold since regression doesn't care how independent variables are distributed\n",
    "- Coefficients can be interpreted as 'a x% change in beta x_i results in a y% change in y_i' (as long as the features in question have been log transformed)\n",
    "- Added benefit of reducing the effect of outliers"
   ]
  },
  {
   "cell_type": "code",
   "execution_count": 30,
   "metadata": {},
   "outputs": [],
   "source": [
    "numeric_feats = train.dtypes[train.dtypes != 'object'].index\n",
    "numeric_feats = numeric_feats.tolist()\n",
    "numeric_feats.remove('saleprice')\n",
    "#print('saleprice' in numeric_feats)\n",
    "#print(len(numeric_feats))\n",
    "\n",
    "to_scale = train[numeric_feats]\n",
    "scaler = StandardScaler()"
   ]
  },
  {
   "cell_type": "code",
   "execution_count": 31,
   "metadata": {},
   "outputs": [
    {
     "ename": "NameError",
     "evalue": "name 'error' is not defined",
     "output_type": "error",
     "traceback": [
      "\u001b[0;31m---------------------------------------------------------------------------\u001b[0m",
      "\u001b[0;31mNameError\u001b[0m                                 Traceback (most recent call last)",
      "\u001b[0;32m<ipython-input-31-ded28046d863>\u001b[0m in \u001b[0;36m<module>\u001b[0;34m()\u001b[0m\n\u001b[0;32m----> 1\u001b[0;31m \u001b[0merror\u001b[0m\u001b[0;34m\u001b[0m\u001b[0m\n\u001b[0m",
      "\u001b[0;31mNameError\u001b[0m: name 'error' is not defined"
     ]
    }
   ],
   "source": [
    "error"
   ]
  },
  {
   "cell_type": "code",
   "execution_count": null,
   "metadata": {},
   "outputs": [],
   "source": [
    "#skewed_feats = []\n",
    "#skewed_feats_dict = {}\n",
    "#outside_thresh_dict = {}\n",
    "\n",
    "#for feat in numeric_feats:\n",
    "#    if train[feat].skew() >= 0.5 or train[feat].skew() <= -0.5:\n",
    "#        skewed_feats.append(feat)\n",
    "#        skewed_feats_dict[feat] = train[feat].skew()\n",
    "#    else:\n",
    "#        outside_thresh_dict[feat] = train[feat].skew()"
   ]
  },
  {
   "cell_type": "code",
   "execution_count": null,
   "metadata": {},
   "outputs": [],
   "source": [
    "#print(len(skewed_feats), len(skewed_feats_dict), len(outside_thresh))\n",
    "#print(skewed_feats_dict)\n",
    "#print(outside_thresh)"
   ]
  },
  {
   "cell_type": "code",
   "execution_count": null,
   "metadata": {},
   "outputs": [],
   "source": [
    "#train[skewed_feats] = np.log1p(train[skewed_feats])"
   ]
  },
  {
   "cell_type": "code",
   "execution_count": null,
   "metadata": {},
   "outputs": [],
   "source": [
    "#skewed_feats_log1p = {}\n",
    "\n",
    "#for feat in skewed_feats:\n",
    "#    skewed_feats_log1p[feat] = train[feat].skew() \n",
    "\n",
    "#print(skewed_feats_log1p)"
   ]
  },
  {
   "cell_type": "markdown",
   "metadata": {},
   "source": [
    "# LOG CELL"
   ]
  },
  {
   "cell_type": "code",
   "execution_count": null,
   "metadata": {},
   "outputs": [],
   "source": [
    "#train[numeric_feats] = np.log1p(train[numeric_feats])"
   ]
  },
  {
   "cell_type": "markdown",
   "metadata": {},
   "source": [
    "# LOG -> SCALER"
   ]
  },
  {
   "cell_type": "code",
   "execution_count": null,
   "metadata": {},
   "outputs": [],
   "source": [
    "#train[numeric_feats] = np.log1p(train[numeric_feats])\n",
    "#scaler.fit(to_scale.values)"
   ]
  },
  {
   "cell_type": "markdown",
   "metadata": {},
   "source": [
    "# SCALER CELL"
   ]
  },
  {
   "cell_type": "code",
   "execution_count": 32,
   "metadata": {},
   "outputs": [
    {
     "data": {
      "text/plain": [
       "StandardScaler(copy=True, with_mean=True, with_std=True)"
      ]
     },
     "execution_count": 32,
     "metadata": {},
     "output_type": "execute_result"
    }
   ],
   "source": [
    "scaler.fit(to_scale.values)"
   ]
  },
  {
   "cell_type": "markdown",
   "metadata": {},
   "source": [
    "# SCALER -> LOG"
   ]
  },
  {
   "cell_type": "code",
   "execution_count": 43,
   "metadata": {},
   "outputs": [],
   "source": [
    "#scaler.fit(to_scale.values)\n",
    "train[numeric_feats] = np.log1p(train[numeric_feats])"
   ]
  },
  {
   "cell_type": "markdown",
   "metadata": {},
   "source": [
    "## 2.6 Feature Selection"
   ]
  },
  {
   "cell_type": "code",
   "execution_count": 44,
   "metadata": {},
   "outputs": [],
   "source": [
    "#create dummies and data/target\n",
    "train = pd.get_dummies(train)\n",
    "X = train.loc[:, ~(train.columns).isin(['saleprice'])]\n",
    "y = train['saleprice']\n",
    "\n",
    "#rmse evaluation function\n",
    "cv = 5\n",
    "\n",
    "def rmse(model):\n",
    "    rmse = np.sqrt(-cross_val_score(\n",
    "        model, X, y, cv=cv, scoring='neg_mean_squared_error'))\n",
    "    return(rmse)"
   ]
  },
  {
   "cell_type": "markdown",
   "metadata": {},
   "source": [
    "### Use Lasso/L1 regularization for feature selection"
   ]
  },
  {
   "cell_type": "code",
   "execution_count": 45,
   "metadata": {},
   "outputs": [
    {
     "name": "stdout",
     "output_type": "stream",
     "text": [
      "model: lasso\n",
      "alpha: 0.0005\n",
      "rmse score mean: 0.11703016993030299\n",
      "rmse max - rmse min: 0.01677878442294968\n",
      "rmse score array: [0.10718829 0.12128999 0.12396708 0.11491778 0.11778771]\n"
     ]
    }
   ],
   "source": [
    "lasso = LassoCV(alphas=[0.0001, 0.001, 0.01, 0.1, 1,\n",
    "                        0.0005, 0.005, 0.05, 0.5, 5]).fit(X, y)\n",
    "alpha = lasso.alpha_\n",
    "print('model: lasso')\n",
    "print('alpha:', alpha)\n",
    "print('rmse score mean:', rmse(lasso).mean())\n",
    "print('rmse max - rmse min:', rmse(lasso).max() - rmse(lasso).min())\n",
    "print('rmse score array:', rmse(lasso))"
   ]
  },
  {
   "cell_type": "code",
   "execution_count": null,
   "metadata": {},
   "outputs": [],
   "source": [
    "#lasso = LassoCV(alphas=[alpha, alpha*0.25, alpha*0.5, alpha*0.75,\n",
    "#                        alpha*1.25, alpha*1.5, alpha*1.75, alpha*2]).fit(X, y)\n",
    "#alpha = lasso.alpha_\n",
    "#print('model: lasso')\n",
    "#print('alpha: ', alpha)\n",
    "#print('rmse score mean:', rmse(lasso).mean())\n",
    "#print('rmse max - rmse min:', rmse(lasso).max() - rmse(lasso).min())\n",
    "#print('rmse score array:', rmse(lasso))"
   ]
  },
  {
   "cell_type": "code",
   "execution_count": 36,
   "metadata": {},
   "outputs": [
    {
     "data": {
      "image/png": "[encoded data removed]",
      "text/plain": [
       "<matplotlib.figure.Figure at 0x1a172e2278>"
      ]
     },
     "metadata": {},
     "output_type": "display_data"
    }
   ],
   "source": [
    "#check residual distribution\n",
    "predicted = lasso.predict(X)\n",
    "actual = y\n",
    "residual = actual - predicted\n",
    "\n",
    "plt.figure(figsize=(8,8))\n",
    "plt.scatter(predicted, residual)\n",
    "plt.axhline(y=0, color=color_r)\n",
    "plt.xlabel('predicted')\n",
    "plt.ylabel('residual')\n",
    "plt.title('error distribution')\n",
    "plt.show()"
   ]
  },
  {
   "cell_type": "code",
   "execution_count": 46,
   "metadata": {},
   "outputs": [
    {
     "name": "stdout",
     "output_type": "stream",
     "text": [
      "lasso n_components:  110\n"
     ]
    }
   ],
   "source": [
    "coefs = pd.Series(lasso.coef_, index=X.columns)\n",
    "n_components = sum(coefs != 0)\n",
    "print('lasso n_components: ', n_components)\n",
    "\n",
    "features = pd.DataFrame(lasso.coef_, index=X.columns)\n",
    "features = features.reset_index()\n",
    "features.columns = ['var','coef']\n",
    "features = features[features['coef'] != 0]\n",
    "features = list(features['var'])\n",
    "\n",
    "X = X[features]"
   ]
  },
  {
   "cell_type": "markdown",
   "metadata": {},
   "source": [
    "# Modeling"
   ]
  },
  {
   "cell_type": "markdown",
   "metadata": {},
   "source": [
    "### Linear Regression with L2/Ridge Regularization"
   ]
  },
  {
   "cell_type": "code",
   "execution_count": 47,
   "metadata": {},
   "outputs": [
    {
     "name": "stdout",
     "output_type": "stream",
     "text": [
      "model: ridge\n",
      "alpha: 1.0\n",
      "rmse score mean: 0.1136438527740862\n",
      "rmse max - rmse min: 0.01598796551136822\n",
      "rmse score array: [0.10340799 0.11743241 0.11939596 0.11032307 0.11765983]\n"
     ]
    }
   ],
   "source": [
    "ridge = RidgeCV(\n",
    "    alphas=[0.01, 0.05, 0.1, 0.5, 1, 5]\n",
    ").fit(X, y)\n",
    "\n",
    "alpha = ridge.alpha_\n",
    "print('model: ridge')\n",
    "print('alpha:', alpha)\n",
    "print('rmse score mean:', rmse(ridge).mean())\n",
    "print('rmse max - rmse min:', rmse(ridge).max() - rmse(ridge).min())\n",
    "print('rmse score array:', rmse(ridge))"
   ]
  },
  {
   "cell_type": "code",
   "execution_count": 48,
   "metadata": {},
   "outputs": [
    {
     "name": "stdout",
     "output_type": "stream",
     "text": [
      "model: ridge\n",
      "alpha: 2.0\n",
      "cross_val rmse mean: 0.11349154486341295\n",
      "rmse max - rmse min: 0.015335099076811146\n",
      "rmse score array: [0.10379719 0.11739792 0.11913229 0.1102532  0.11687713]\n"
     ]
    }
   ],
   "source": [
    "ridge = RidgeCV(\n",
    "    alphas=[alpha, alpha*0.25, alpha*0.5, alpha*0.75,\n",
    "            alpha*1.25, alpha*1.5, alpha*1.75, alpha*2]\n",
    ").fit(X, y)\n",
    "alpha = ridge.alpha_\n",
    "print('model: ridge')\n",
    "print('alpha:', alpha)\n",
    "print('cross_val rmse mean:', rmse(ridge).mean())\n",
    "print('rmse max - rmse min:', rmse(ridge).max() - rmse(ridge).min())\n",
    "print('rmse score array:', rmse(ridge))"
   ]
  },
  {
   "cell_type": "markdown",
   "metadata": {},
   "source": [
    "### Linear Regression with L1/Lasso Regularization"
   ]
  },
  {
   "cell_type": "code",
   "execution_count": 49,
   "metadata": {},
   "outputs": [
    {
     "name": "stdout",
     "output_type": "stream",
     "text": [
      "model: lasso\n",
      "alpha:  0.0001\n",
      "rmse score mean: 0.11473480698859259\n",
      "rmse max - rmse min: 0.014917030578185608\n",
      "rmse score array: [0.10569735 0.12061438 0.11909957 0.1107268  0.11753594]\n"
     ]
    }
   ],
   "source": [
    "lasso = LassoCV(\n",
    "    alphas=[0.0001, 0.0005, 0.001, 0.005, 0.01, 0.05, 0.1, 0.5,1, 5]\n",
    ").fit(X, y)\n",
    "alpha = lasso.alpha_\n",
    "print('model: lasso')\n",
    "print('alpha: ', alpha)\n",
    "print('rmse score mean:', rmse(lasso).mean())\n",
    "print('rmse max - rmse min:', rmse(lasso).max() - rmse(lasso).min())\n",
    "print('rmse score array:', rmse(lasso))"
   ]
  },
  {
   "cell_type": "code",
   "execution_count": 50,
   "metadata": {},
   "outputs": [
    {
     "name": "stdout",
     "output_type": "stream",
     "text": [
      "model: lasso\n",
      "alpha:  0.000175\n",
      "rmse score mean: 0.1137900380295421\n",
      "rmse max - rmse min: 0.015815417599623557\n",
      "rmse score array: [0.10358555 0.11852917 0.11940097 0.11084975 0.11658475]\n"
     ]
    }
   ],
   "source": [
    "lasso = LassoCV(alphas=[alpha,\n",
    "                        alpha*0.25, alpha*0.5, alpha*0.75,\n",
    "                        alpha*1.25, alpha*1.5, alpha*1.75, alpha*2])\n",
    "\n",
    "lasso.fit(X, y)\n",
    "alpha = lasso.alpha_\n",
    "print('model: lasso')\n",
    "print('alpha: ', alpha)\n",
    "print('rmse score mean:', rmse(lasso).mean())\n",
    "print('rmse max - rmse min:', rmse(lasso).max() - rmse(lasso).min())\n",
    "print('rmse score array:', rmse(lasso))"
   ]
  },
  {
   "cell_type": "markdown",
   "metadata": {},
   "source": [
    "### Random Forest Regressor"
   ]
  },
  {
   "cell_type": "code",
   "execution_count": null,
   "metadata": {
    "scrolled": false
   },
   "outputs": [],
   "source": [
    "rfr = ensemble.RandomForestRegressor()\n",
    "params = [{'n_estimators':[10, 50, 100, 250, 500],\n",
    "           'max_features':[1, int(n_components/2), n_components],\n",
    "           'max_depth':[10,20,30,40]}]\n",
    "\n",
    "start_time = time.clock()\n",
    "grid = GridSearchCV(\n",
    "    estimator=rfr,\n",
    "    param_grid=params,\n",
    "    scoring='neg_mean_squared_error'\n",
    ").fit(X,y)\n",
    "\n",
    "print('params:', grid.best_params_)\n",
    "print('runtime: ', time.clock() - start_time)"
   ]
  },
  {
   "cell_type": "code",
   "execution_count": null,
   "metadata": {},
   "outputs": [],
   "source": [
    "n_estimators = grid.best_params_.get('n_estimators')\n",
    "max_depth = grid.best_params_.get('max_depth')\n",
    "max_features = grid.best_params_.get('max_features')\n",
    "\n",
    "start_time = time.clock()\n",
    "rfr = ensemble.RandomForestRegressor(\n",
    "    n_estimators=n_estimators,\n",
    "    max_depth=max_depth,\n",
    "    max_features=max_features\n",
    ").fit(X, y)\n",
    "\n",
    "print('model: random forest')\n",
    "print('rmse score mean:', rmse(rfr).mean())\n",
    "print('rmse max - rmse min:', rmse(rfr).max() - rmse(rfr).min())\n",
    "print('rmse score array:', rmse(rfr))\n",
    "print('runtime: ', time.clock() - start_time)"
   ]
  },
  {
   "cell_type": "markdown",
   "metadata": {},
   "source": [
    "### Support Vector Regressor"
   ]
  },
  {
   "cell_type": "code",
   "execution_count": null,
   "metadata": {},
   "outputs": [],
   "source": [
    "#svr = SVR()\n",
    "#params = [{'C':[0.0001, 0.0005, 0.001, 0.005, 0.01, 0.05, 1, 5, 10],\n",
    "#           'kernel':['linear']}]\n",
    "\n",
    "#start_time = time.clock()\n",
    "#grid = GridSearchCV(\n",
    "#    estimator=svr,\n",
    "#    param_grid=params,\n",
    "#    scoring='neg_mean_squared_error'\n",
    "#).fit(X, y)\n",
    "\n",
    "#print('params:', grid.best_params_)\n",
    "#print('runtime: ', time.clock() - start_time)"
   ]
  },
  {
   "cell_type": "code",
   "execution_count": null,
   "metadata": {},
   "outputs": [],
   "source": [
    "#c = grid.best_params_.get('C')\n",
    "#start_time = time.clock()\n",
    "#svr = SVR(C=c, kernel='linear').fit(X, y)\n",
    "\n",
    "#print('model: support vector')\n",
    "#print('cross_val rmse mean:', rmse(svr).mean())\n",
    "#print('rmse max - rmse min:', rmse(svr).max() - rmse(svr).min())\n",
    "#print('rmse score array:', rmse(svr))\n",
    "#print('runtime: ', time.clock() - start_time"
   ]
  },
  {
   "cell_type": "markdown",
   "metadata": {},
   "source": [
    "## XGBoost Regressor"
   ]
  },
  {
   "cell_type": "markdown",
   "metadata": {},
   "source": [
    "### Vanilla XGB"
   ]
  },
  {
   "cell_type": "code",
   "execution_count": 51,
   "metadata": {},
   "outputs": [
    {
     "name": "stdout",
     "output_type": "stream",
     "text": [
      "model: vanilla xgb_rgr\n",
      "cross_val rmse mean: 0.12207484376657096\n",
      "rmse max - rmse min: 0.011202216556718811\n",
      "rmse score array: [0.11514714 0.12634936 0.12556426 0.12195982 0.12135365]\n",
      "runtime:  4.266137999999998\n"
     ]
    }
   ],
   "source": [
    "start_time = time.clock()\n",
    "xgbr = XGBRegressor().fit(X, y)\n",
    "print('model: vanilla xgb_rgr')\n",
    "print('cross_val rmse mean:', rmse(xgbr).mean())\n",
    "print('rmse max - rmse min:', rmse(xgbr).max() - rmse(xgbr).min())\n",
    "print('rmse score array:', rmse(xgbr))\n",
    "print('runtime: ', time.clock() - start_time)"
   ]
  },
  {
   "cell_type": "code",
   "execution_count": 52,
   "metadata": {},
   "outputs": [
    {
     "name": "stdout",
     "output_type": "stream",
     "text": [
      "model: vanilla xgb_rgr\n",
      "cross_val rmse mean: 0.11524706838191645\n",
      "rmse max - rmse min: 0.014179452516408425\n",
      "rmse score array: [0.10674448 0.12092393 0.11990284 0.11344396 0.11522013]\n",
      "runtime:  42.777578000000005\n"
     ]
    }
   ],
   "source": [
    "start_time = time.clock()\n",
    "xgbr = XGBRegressor(\n",
    "    n_estimators=1000,\n",
    "    learning_rate=0.05\n",
    ").fit(X, y, verbose=False)\n",
    "\n",
    "print('model: vanilla xgb_rgr')\n",
    "print('cross_val rmse mean:', rmse(xgbr).mean())\n",
    "print('rmse max - rmse min:', rmse(xgbr).max() - rmse(xgbr).min())\n",
    "print('rmse score array:', rmse(xgbr))\n",
    "print('runtime: ', time.clock() - start_time)"
   ]
  },
  {
   "cell_type": "markdown",
   "metadata": {},
   "source": [
    "### Tune Parameters"
   ]
  },
  {
   "cell_type": "code",
   "execution_count": null,
   "metadata": {},
   "outputs": [],
   "source": [
    "xgbr = XGBRegressor()\n",
    "params = [{'booster':['gbtree', 'gblinear'],\n",
    "           'max_depth':[2, 3, 5, 10],\n",
    "           'learning_rate':[0.1, 0.05, 0.01],\n",
    "           'subsample':[0.25, 0.5, 0.75, 1]}]\n",
    "\n",
    "start_time = time.clock()\n",
    "grid = GridSearchCV(\n",
    "    estimator=xgbr,\n",
    "    param_grid=params,\n",
    "    scoring='neg_mean_squared_error'\n",
    ").fit(X,y)\n",
    "\n",
    "print('params:', grid.best_params_)\n",
    "print('runtime: ', time.clock() - start_time)"
   ]
  },
  {
   "cell_type": "code",
   "execution_count": null,
   "metadata": {},
   "outputs": [],
   "source": [
    "booster = grid.best_params_.get('booster')\n",
    "learning_rate = grid.best_params_.get('learning_rate')\n",
    "max_depth = grid.best_params_.get('max_depth')\n",
    "subsample = grid.best_params_.get('subsample')\n",
    "\n",
    "start_time = time.clock()\n",
    "xgb_rgr = XGBRegressor(\n",
    "    n_estimators=1000,\n",
    "    learning_rate=learning_rate,\n",
    "    max_depth=max_depth,\n",
    "    subsample=subsample\n",
    ").fit(X, y, verbose=False)\n",
    "#xgb_rgr.fit(X_train, y_train, early_stopping_rounds=5,\n",
    "#            eval_set=[(X_test, y_test)], verbose=False)\n",
    "\n",
    "print('model: xgboost regressor')\n",
    "print('cross_val rmse mean:', rmse(xgbr).mean())\n",
    "print('rmse max - rmse min:', rmse(xgbr).max() - rmse(xgbr).min())\n",
    "print('rmse score array:', rmse(xgbr))\n",
    "print('runtime: ', time.clock() - start_time)"
   ]
  },
  {
   "cell_type": "code",
   "execution_count": null,
   "metadata": {},
   "outputs": [],
   "source": []
  }
 ],
 "metadata": {
  "kernelspec": {
   "display_name": "Python 3",
   "language": "python",
   "name": "python3"
  },
  "language_info": {
   "codemirror_mode": {
    "name": "ipython",
    "version": 3
   },
   "file_extension": ".py",
   "mimetype": "text/x-python",
   "name": "python",
   "nbconvert_exporter": "python",
   "pygments_lexer": "ipython3",
   "version": "3.6.4"
  }
 },
 "nbformat": 4,
 "nbformat_minor": 2
}
