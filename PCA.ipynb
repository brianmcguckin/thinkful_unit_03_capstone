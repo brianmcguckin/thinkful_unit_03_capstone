{
 "cells": [
  {
   "cell_type": "code",
   "execution_count": 1,
   "metadata": {},
   "outputs": [],
   "source": [
    "#imports\n",
    "import numpy as np\n",
    "import pandas as pd\n",
    "import matplotlib.pyplot as plt\n",
    "import seaborn as sns\n",
    "import time\n",
    "import warnings\n",
    "\n",
    "from scipy import stats\n",
    "from scipy.stats import norm\n",
    "\n",
    "from sklearn.model_selection import train_test_split, cross_val_score, GridSearchCV\n",
    "from sklearn.metrics import mean_squared_error\n",
    "from sklearn import linear_model, ensemble\n",
    "from sklearn.linear_model import LinearRegression, Ridge, RidgeCV, Lasso, LassoCV\n",
    "from sklearn.preprocessing import StandardScaler\n",
    "from sklearn.decomposition import PCA\n",
    "from sklearn.svm import SVR\n",
    "\n",
    "from xgboost import XGBRegressor\n",
    "\n",
    "warnings.filterwarnings('ignore')\n",
    "%matplotlib inline"
   ]
  },
  {
   "cell_type": "code",
   "execution_count": 2,
   "metadata": {},
   "outputs": [],
   "source": [
    "#set seaborn plot display options\n",
    "sns.set(style='whitegrid', palette='muted', font_scale=1.3)\n",
    "\n",
    "#color variables incase they're needed\n",
    "color_b = sns.color_palette('muted').as_hex()[0]\n",
    "color_g = sns.color_palette('muted').as_hex()[1]\n",
    "color_r = sns.color_palette('muted').as_hex()[2]\n",
    "color_p = sns.color_palette('muted').as_hex()[3]\n",
    "color_y = sns.color_palette('muted').as_hex()[4]\n",
    "color_c = sns.color_palette('muted').as_hex()[5]"
   ]
  },
  {
   "cell_type": "code",
   "execution_count": 3,
   "metadata": {},
   "outputs": [],
   "source": [
    "train_raw = pd.read_csv('train.csv')"
   ]
  },
  {
   "cell_type": "code",
   "execution_count": 4,
   "metadata": {},
   "outputs": [],
   "source": [
    "#set df to manipulate, leave raws accessible\n",
    "train = train_raw.copy()\n",
    "\n",
    "#lowercase column names\n",
    "train.columns = [x.lower() for x in train.columns]\n",
    "\n",
    "#strip whitespace\n",
    "to_strip = train.select_dtypes(include='object')\n",
    "train[to_strip.columns] = to_strip.apply(lambda x: x.str.strip())"
   ]
  },
  {
   "cell_type": "code",
   "execution_count": 5,
   "metadata": {},
   "outputs": [
    {
     "name": "stdout",
     "output_type": "stream",
     "text": [
      "3627\n"
     ]
    }
   ],
   "source": [
    "train = train[train.grlivarea < 4000]\n",
    "print(train.grlivarea.max())"
   ]
  },
  {
   "cell_type": "code",
   "execution_count": 6,
   "metadata": {},
   "outputs": [
    {
     "data": {
      "text/html": [
       "<div>\n",
       "<style scoped>\n",
       "    .dataframe tbody tr th:only-of-type {\n",
       "        vertical-align: middle;\n",
       "    }\n",
       "\n",
       "    .dataframe tbody tr th {\n",
       "        vertical-align: top;\n",
       "    }\n",
       "\n",
       "    .dataframe thead th {\n",
       "        text-align: right;\n",
       "    }\n",
       "</style>\n",
       "<table border=\"1\" class=\"dataframe\">\n",
       "  <thead>\n",
       "    <tr style=\"text-align: right;\">\n",
       "      <th></th>\n",
       "      <th>variable</th>\n",
       "      <th>rows_missing</th>\n",
       "    </tr>\n",
       "  </thead>\n",
       "  <tbody>\n",
       "    <tr>\n",
       "      <th>0</th>\n",
       "      <td>poolqc</td>\n",
       "      <td>1451</td>\n",
       "    </tr>\n",
       "    <tr>\n",
       "      <th>1</th>\n",
       "      <td>miscfeature</td>\n",
       "      <td>1402</td>\n",
       "    </tr>\n",
       "    <tr>\n",
       "      <th>2</th>\n",
       "      <td>alley</td>\n",
       "      <td>1365</td>\n",
       "    </tr>\n",
       "    <tr>\n",
       "      <th>3</th>\n",
       "      <td>fence</td>\n",
       "      <td>1176</td>\n",
       "    </tr>\n",
       "    <tr>\n",
       "      <th>4</th>\n",
       "      <td>fireplacequ</td>\n",
       "      <td>690</td>\n",
       "    </tr>\n",
       "    <tr>\n",
       "      <th>5</th>\n",
       "      <td>lotfrontage</td>\n",
       "      <td>259</td>\n",
       "    </tr>\n",
       "    <tr>\n",
       "      <th>6</th>\n",
       "      <td>garagecond</td>\n",
       "      <td>81</td>\n",
       "    </tr>\n",
       "    <tr>\n",
       "      <th>7</th>\n",
       "      <td>garagetype</td>\n",
       "      <td>81</td>\n",
       "    </tr>\n",
       "    <tr>\n",
       "      <th>8</th>\n",
       "      <td>garageyrblt</td>\n",
       "      <td>81</td>\n",
       "    </tr>\n",
       "    <tr>\n",
       "      <th>9</th>\n",
       "      <td>garagefinish</td>\n",
       "      <td>81</td>\n",
       "    </tr>\n",
       "    <tr>\n",
       "      <th>10</th>\n",
       "      <td>garagequal</td>\n",
       "      <td>81</td>\n",
       "    </tr>\n",
       "    <tr>\n",
       "      <th>11</th>\n",
       "      <td>bsmtexposure</td>\n",
       "      <td>38</td>\n",
       "    </tr>\n",
       "    <tr>\n",
       "      <th>12</th>\n",
       "      <td>bsmtfintype2</td>\n",
       "      <td>38</td>\n",
       "    </tr>\n",
       "    <tr>\n",
       "      <th>13</th>\n",
       "      <td>bsmtfintype1</td>\n",
       "      <td>37</td>\n",
       "    </tr>\n",
       "    <tr>\n",
       "      <th>14</th>\n",
       "      <td>bsmtcond</td>\n",
       "      <td>37</td>\n",
       "    </tr>\n",
       "    <tr>\n",
       "      <th>15</th>\n",
       "      <td>bsmtqual</td>\n",
       "      <td>37</td>\n",
       "    </tr>\n",
       "    <tr>\n",
       "      <th>16</th>\n",
       "      <td>masvnrarea</td>\n",
       "      <td>8</td>\n",
       "    </tr>\n",
       "    <tr>\n",
       "      <th>17</th>\n",
       "      <td>masvnrtype</td>\n",
       "      <td>8</td>\n",
       "    </tr>\n",
       "    <tr>\n",
       "      <th>18</th>\n",
       "      <td>electrical</td>\n",
       "      <td>1</td>\n",
       "    </tr>\n",
       "  </tbody>\n",
       "</table>\n",
       "</div>"
      ],
      "text/plain": [
       "        variable  rows_missing\n",
       "0         poolqc          1451\n",
       "1    miscfeature          1402\n",
       "2          alley          1365\n",
       "3          fence          1176\n",
       "4    fireplacequ           690\n",
       "5    lotfrontage           259\n",
       "6     garagecond            81\n",
       "7     garagetype            81\n",
       "8    garageyrblt            81\n",
       "9   garagefinish            81\n",
       "10    garagequal            81\n",
       "11  bsmtexposure            38\n",
       "12  bsmtfintype2            38\n",
       "13  bsmtfintype1            37\n",
       "14      bsmtcond            37\n",
       "15      bsmtqual            37\n",
       "16    masvnrarea             8\n",
       "17    masvnrtype             8\n",
       "18    electrical             1"
      ]
     },
     "execution_count": 6,
     "metadata": {},
     "output_type": "execute_result"
    }
   ],
   "source": [
    "#see whats missing\n",
    "missing_data = train.isnull().sum().sort_values(ascending=False)\n",
    "missing_data = missing_data.reset_index()\n",
    "missing_data.columns = ['variable','rows_missing']\n",
    "missing_data = missing_data[missing_data['rows_missing'] > 0]\n",
    "missing_data"
   ]
  },
  {
   "cell_type": "code",
   "execution_count": 7,
   "metadata": {},
   "outputs": [],
   "source": [
    "#handle missing values, easy part\n",
    "train['poolqc'].fillna('none', inplace=True)\n",
    "train['miscfeature'].fillna('none', inplace=True)\n",
    "train['alley'].fillna('none', inplace=True)\n",
    "train['fence'].fillna('none', inplace=True)\n",
    "train['fireplacequ'].fillna('none', inplace=True)\n",
    "train['garagecond'].fillna('none', inplace=True) #consider revisiting\n",
    "train['garagetype'].fillna('none', inplace=True)\n",
    "train['garagefinish'].fillna('none', inplace=True)\n",
    "train['garagequal'].fillna('none', inplace=True)\n",
    "train['garageyrblt'].fillna(0, inplace=True)\n",
    "train['bsmtexposure'].fillna('none', inplace=True)\n",
    "train['bsmtfintype1'].fillna('none', inplace=True)\n",
    "train['bsmtfintype2'].fillna('none', inplace=True)\n",
    "train['bsmtcond'].fillna('none', inplace=True)\n",
    "train['bsmtqual'].fillna('none', inplace=True)\n",
    "train['masvnrtype'].fillna('none', inplace=True)\n",
    "train['masvnrarea'].fillna(0, inplace=True)"
   ]
  },
  {
   "cell_type": "code",
   "execution_count": 8,
   "metadata": {},
   "outputs": [
    {
     "name": "stdout",
     "output_type": "stream",
     "text": [
      "SBrkr    1331\n",
      "FuseA      94\n",
      "FuseF      27\n",
      "FuseP       3\n",
      "Mix         1\n",
      "Name: electrical, dtype: int64\n"
     ]
    }
   ],
   "source": [
    "#impute with most common value\n",
    "train['electrical'].fillna('SBrkr', inplace=True)\n",
    "print(train['electrical'].value_counts(dropna=False))"
   ]
  },
  {
   "cell_type": "markdown",
   "metadata": {},
   "source": [
    "### Missing value handling: variable lotfrontage\n",
    "lotfrontage: linear feet of street connected to property"
   ]
  },
  {
   "cell_type": "code",
   "execution_count": 9,
   "metadata": {},
   "outputs": [
    {
     "name": "stdout",
     "output_type": "stream",
     "text": [
      "NaN      259\n",
      " 60.0    143\n",
      " 70.0     70\n",
      " 80.0     69\n",
      " 50.0     57\n",
      "Name: lotfrontage, dtype: int64\n"
     ]
    }
   ],
   "source": [
    "print(train['lotfrontage'].value_counts(\n",
    "    dropna=False).sort_values(ascending=False).head())"
   ]
  },
  {
   "cell_type": "code",
   "execution_count": 10,
   "metadata": {},
   "outputs": [
    {
     "name": "stdout",
     "output_type": "stream",
     "text": [
      "street value counts:\n",
      "Pave    1450\n",
      "Grvl       6\n",
      "Name: street, dtype: int64\n",
      "\n",
      "lotarea null values: \n",
      "0\n",
      "\n",
      "lotarea smallest lots\n",
      "1300    1\n",
      "1477    1\n",
      "1491    1\n",
      "1526    1\n",
      "1533    2\n",
      "Name: lotarea, dtype: int64\n"
     ]
    }
   ],
   "source": [
    "print('street value counts:')\n",
    "print(train['street'].value_counts(dropna=False))\n",
    "print('\\nlotarea null values: ')\n",
    "\n",
    "print(train['lotarea'].isnull().sum())\n",
    "#make sure there aren't unreasonably small lot sizes, could indicate data error\n",
    "print('\\nlotarea smallest lots')\n",
    "print(train['lotarea'].value_counts(dropna=False).sort_index().head())"
   ]
  },
  {
   "cell_type": "code",
   "execution_count": 11,
   "metadata": {},
   "outputs": [
    {
     "name": "stdout",
     "output_type": "stream",
     "text": [
      "lotfrontage:lotarea proportion:\n",
      "ratio mean: 0.00791\n",
      "ratio median: 0.00771\n",
      "ratio mode: 0.00833\n"
     ]
    }
   ],
   "source": [
    "temp_df = train.loc[:, (train.columns).isin(['lotfrontage', 'lotarea'])]\n",
    "temp_df['ratio'] = temp_df['lotfrontage'] / temp_df['lotarea']\n",
    "\n",
    "print('lotfrontage:lotarea proportion:')\n",
    "print('ratio mean: %.5f' % temp_df['ratio'].dropna().mean())\n",
    "print('ratio median: %.5f' % temp_df['ratio'].dropna().median())\n",
    "print('ratio mode: %.5f' % temp_df['ratio'].dropna().mode())"
   ]
  },
  {
   "cell_type": "code",
   "execution_count": 12,
   "metadata": {},
   "outputs": [
    {
     "data": {
      "text/plain": [
       "0"
      ]
     },
     "execution_count": 12,
     "metadata": {},
     "output_type": "execute_result"
    }
   ],
   "source": [
    "ratio_mean = (train['lotfrontage'] / train['lotarea']).mean()\n",
    "train['lotfrontage'].fillna(train['lotarea'] * ratio_mean, inplace=True)\n",
    "train['lotfrontage'].isnull().sum()"
   ]
  },
  {
   "cell_type": "code",
   "execution_count": 13,
   "metadata": {},
   "outputs": [],
   "source": [
    "#drop id column\n",
    "train = train.drop(['id'], 1)"
   ]
  },
  {
   "cell_type": "code",
   "execution_count": 14,
   "metadata": {},
   "outputs": [],
   "source": [
    "#mssubclas to categorical\n",
    "train = train.replace(\n",
    "    {'mssubclass':{20:'subclasss20', 30:'subclass30', 40:'subclass40',\n",
    "                   45:'subclass45', 50:'subclass50', 60:'subclass60',\n",
    "                   70:'subclass70', 75:'subclass75', 80:'subclass80',\n",
    "                   85:'subclass85', 90:'subclass90', 120:'subclass120',\n",
    "                   150:'subclass150', 160:'subclass160', 180:'subclass180',\n",
    "                   190:'subclass190'},\n",
    "     'mosold':{1:'_01jan', 2:'_02feb', 3:'_03mar', 4:'_04apr', 5:'_05may',\n",
    "               6:'_06jun', 7:'_07jul', 8:'_08aug', 9:'_09sep', 10:'_10oct',\n",
    "               11:'_11nov', 12:'_12dec'}})"
   ]
  },
  {
   "cell_type": "code",
   "execution_count": 15,
   "metadata": {},
   "outputs": [],
   "source": [
    "#create yr/mo sold feature\n",
    "train['yrmo_sold'] = train.yrsold.astype(\n",
    "    str).str.cat(train.mosold.astype(str)) #.astype(int)"
   ]
  },
  {
   "cell_type": "code",
   "execution_count": 16,
   "metadata": {},
   "outputs": [],
   "source": [
    "#categorical to ordinal\n",
    "train = train.replace(\n",
    "    {'street':{'Grvl':1, 'Pave':2},\n",
    "     'alley':{'none':0, 'Grvl':1, 'Pave':2},\n",
    "     'utilities':{'ELO':1, 'NoSeWa':2, 'NoSewr':3, 'AllPub':4},\n",
    "     'exterqual':{'Po':1, 'Fa':2, 'TA':3, 'Gd':4, 'Ex':5},\n",
    "     'extercond':{'Po':1, 'Fa':2, 'TA':3, 'Gd':4, 'Ex':5},\n",
    "     'bsmtqual':{'none':0, 'Po':1, 'Fa':2, 'TA':3, 'Gd':4, 'Ex':5},\n",
    "     'bsmtcond':{'none':0, 'Po':1, 'Fa':2, 'TA':3, 'Gd':4, 'Ex':5},\n",
    "     'bsmtexposure':{'none':0, 'No':0, 'Mn':2, 'Av':3, 'Gd':4},\n",
    "     'bsmtfintype1':{'none':0, 'Unf':1, 'LwQ':2, 'Rec':3, 'BLQ':4, 'ALQ':5, 'GLQ':6},\n",
    "     'bsmtfintype2':{'none':0, 'Unf':1, 'LwQ':2, 'Rec':3, 'BLQ':4, 'ALQ':45, 'GLQ':6},\n",
    "     'heatingqc':{'Po':1, 'Fa':2, 'TA':3, 'Gd':4, 'Ex':5},\n",
    "     'kitchenqual':{'Po':1, 'Fa':2, 'TA':3, 'Gd':4, 'Ex':5},\n",
    "     'functional':{'Sal':1, 'Sev':2, 'Maj2':3, 'Maj1':4, 'Mod':5, 'Min2':6, 'Min1':7, 'Typ':8},\n",
    "     'fireplacequ':{'none':0, 'Po':1, 'Fa':2, 'TA':3, 'Gd':4, 'Ex':5},\n",
    "     'garagefinish':{'none':0, 'Unf':1, 'RFn':2, 'Fin':3},\n",
    "     'garagequal':{'none':0, 'Po':1, 'Fa':2, 'TA':3, 'Gd':4, 'Ex':5},\n",
    "     'garagecond':{'none':0, 'Po':1, 'Fa':2, 'TA':3, 'Gd':4, 'Ex':5},\n",
    "     'paveddrive':{'N':1, 'P':2, 'Y':2},\n",
    "     'poolqc':{'none':0, 'Fa':1, 'TA':2, 'Gd':3, 'Ex':4}})"
   ]
  },
  {
   "cell_type": "code",
   "execution_count": 17,
   "metadata": {},
   "outputs": [],
   "source": [
    "#possibly subjective\n",
    "#separate so easy to include or exclude (comment out)\n",
    "train = train.replace({'lotshape':{'IR3':1, 'IR2':2, 'IR1':3, 'Reg':4}})\n",
    "train = train.replace({'landcontour':{'Low':1, 'HLS':2, 'Bnk':3, 'Lvl':4}})\n",
    "#train = train.replace({'lotconfig':{}})\n",
    "#train = train.replace({'landslope':{'Gtl':1, 'Mod':2, 'Sev':3}})\n",
    "train = train.replace({'centralair':{'N':0, 'Y':1}})\n",
    "#train = train.replace({'garagetype':{'none':0, 'CarPort':1, 'Detchd':2},\n",
    "#                       'BuiltIn':3, 'Basment':4, 'Attchd':5, '2Types':6})\n",
    "\n",
    "#maybe split this into 2 features\n",
    "#train = train.replace('fenceqc':{'none':0, 'MnWw':1, 'GdWd':2, 'MnPrv'})"
   ]
  },
  {
   "cell_type": "code",
   "execution_count": 18,
   "metadata": {},
   "outputs": [],
   "source": [
    "train['saleprice'] = np.log1p(train['saleprice'])\n",
    "\n",
    "#plt.figure(figsize=(16,8))\n",
    "\n",
    "#ax1 = plt.subplot(121)\n",
    "#sns.distplot(train['saleprice'], ax=ax1, fit=norm)\n",
    "#ax1.set_xlabel('saleprice', size=14)\n",
    "#ax1.set_title('saleprice distribution', size=18)\n",
    "#text box\n",
    "#props = dict(boxstyle='round', color='wheat', alpha=.6)\n",
    "#textstr1 = 'skew: %f' % (train['saleprice'].skew())\n",
    "#ax1.text(0.65, 0.95, textstr1, transform=ax1.transAxes, fontsize=14,\n",
    "#        verticalalignment='top', bbox=props)\n",
    "\n",
    "#ax2 = plt.subplot(122)\n",
    "#stats.probplot(train['saleprice'], plot=ax2)\n",
    "#ax2.set_title('saleprice probability plot')\n",
    "#ax2.get_lines()[0].set_marker('.')\n",
    "#ax2.get_lines()[0].set_markerfacecolor(color_b)\n",
    "#ax2.get_lines()[0].set_markersize(10)\n",
    "#ax2.get_lines()[1].set_linewidth(0)\n",
    "#ax2.get_lines()[1].set_marker('.')\n",
    "#ax2.get_lines()[1].set_markerfacecolor(color_r)\n",
    "#ax2.get_lines()[1].set_markersize(10)\n",
    "\n",
    "#plt.show()\n",
    "#print(stats.normaltest(a=train['saleprice']))"
   ]
  },
  {
   "cell_type": "markdown",
   "metadata": {},
   "source": [
    "## 2.6 Feature Selection"
   ]
  },
  {
   "cell_type": "code",
   "execution_count": 19,
   "metadata": {},
   "outputs": [
    {
     "ename": "NameError",
     "evalue": "name 'stop' is not defined",
     "output_type": "error",
     "traceback": [
      "\u001b[0;31m---------------------------------------------------------------------------\u001b[0m",
      "\u001b[0;31mNameError\u001b[0m                                 Traceback (most recent call last)",
      "\u001b[0;32m<ipython-input-19-4f76a9dad686>\u001b[0m in \u001b[0;36m<module>\u001b[0;34m()\u001b[0m\n\u001b[0;32m----> 1\u001b[0;31m \u001b[0mstop\u001b[0m\u001b[0;34m\u001b[0m\u001b[0m\n\u001b[0m",
      "\u001b[0;31mNameError\u001b[0m: name 'stop' is not defined"
     ]
    }
   ],
   "source": [
    "stop"
   ]
  },
  {
   "cell_type": "markdown",
   "metadata": {},
   "source": [
    "### PCA"
   ]
  },
  {
   "cell_type": "code",
   "execution_count": 24,
   "metadata": {},
   "outputs": [],
   "source": [
    "corr_df = train.drop(['saleprice'],1)\n",
    "corrmat = corr_df.corr()\n",
    "s = corrmat.unstack()\n",
    "so = pd.DataFrame(s.sort_values(ascending=False))\n",
    "so = so.reset_index()\n",
    "so.columns = ['var1', 'var2', 'corr']\n",
    "so = so[so['corr'] < 1]\n",
    "so = so[so['corr'] > 0.5]\n",
    "so.drop_duplicates(subset='corr', keep='first', inplace=True)\n",
    "#so.sort_values(by='corr', ascending=False)"
   ]
  },
  {
   "cell_type": "code",
   "execution_count": null,
   "metadata": {},
   "outputs": [],
   "source": [
    "['lotshape', 'landcontour', 'landslope', 'centralair', 'garagetype',\n",
    " 'street', 'alley', 'utilities', 'exterqual', 'extercond', 'bsmtqual',\n",
    " 'bsmtcond', 'bsmtexposure', 'bsmtfintype1', 'bsmtfintype2', 'heatingqc',\n",
    " 'kitchenqual', 'functional', 'fireplacequ', 'garagefinish', 'garagequal',\n",
    " 'garagecond', 'paveddrive', 'poolqc', 'fence']"
   ]
  },
  {
   "cell_type": "code",
   "execution_count": null,
   "metadata": {},
   "outputs": [],
   "source": []
  },
  {
   "cell_type": "code",
   "execution_count": null,
   "metadata": {},
   "outputs": [],
   "source": [
    "numeric_feats = train.dtypes[train.dtypes != 'object'].index\n",
    "numeric_feats = numeric_feats.tolist()\n",
    "numeric_feats.remove('saleprice')"
   ]
  },
  {
   "cell_type": "code",
   "execution_count": null,
   "metadata": {},
   "outputs": [],
   "source": [
    "df_pca = train[numeric_feats]\n",
    "X = StandardScaler().fit_transform(df_pca)\n",
    "Xt = X.T\n",
    "Cx = np.cov(Xt)\n",
    "\n",
    "eig_val_cov, eig_vec_cov = np.linalg.eig(Cx)\n",
    "\n",
    "tot = sum(eig_val_cov)\n",
    "var_exp = [(i / tot)*100 for i in sorted(eig_val_cov, reverse=True)]\n",
    "cum_var_exp = np.cumsum(var_exp)\n",
    "\n",
    "plt.plot(sorted(eig_val_cov, reverse=True))\n",
    "plt.show()\n",
    "print(cum_var_exp)"
   ]
  },
  {
   "cell_type": "code",
   "execution_count": null,
   "metadata": {},
   "outputs": [],
   "source": [
    "#n_components = 32 #evr 90%"
   ]
  },
  {
   "cell_type": "code",
   "execution_count": null,
   "metadata": {},
   "outputs": [],
   "source": [
    "X_ = X\n",
    "sklearn_pca = PCA(n_components=32).fit_transform(X_)"
   ]
  },
  {
   "cell_type": "code",
   "execution_count": null,
   "metadata": {},
   "outputs": [],
   "source": [
    "sklearn_pca"
   ]
  },
  {
   "cell_type": "code",
   "execution_count": null,
   "metadata": {},
   "outputs": [],
   "source": [
    "print(np.isnan(sklearn_pca).any())\n",
    "print(np.isinf(sklearn_pca).any())"
   ]
  },
  {
   "cell_type": "code",
   "execution_count": null,
   "metadata": {},
   "outputs": [],
   "source": [
    "#bstmtfullbath bsmthalfbath fullbath halfbath bedroom kitchen totrmsabvgrd fireplaces garagecars"
   ]
  },
  {
   "cell_type": "code",
   "execution_count": null,
   "metadata": {},
   "outputs": [],
   "source": [
    "df_pca = pd.DataFrame(data=sklearn_pca)"
   ]
  },
  {
   "cell_type": "code",
   "execution_count": null,
   "metadata": {},
   "outputs": [],
   "source": [
    "#df_pca.columns = ['pc1','pc2','pc3','pc4','pc5','pc6','pc7','pc8',\n",
    "#                  'pc9','pc10']"
   ]
  },
  {
   "cell_type": "code",
   "execution_count": null,
   "metadata": {},
   "outputs": [],
   "source": [
    "df_pca.head()"
   ]
  },
  {
   "cell_type": "code",
   "execution_count": null,
   "metadata": {},
   "outputs": [],
   "source": [
    "print(len(df_pca), len(train['saleprice']))"
   ]
  },
  {
   "cell_type": "code",
   "execution_count": null,
   "metadata": {},
   "outputs": [],
   "source": [
    "price = train['saleprice'].reset_index()"
   ]
  },
  {
   "cell_type": "code",
   "execution_count": null,
   "metadata": {},
   "outputs": [],
   "source": [
    "train_pca = pd.concat([df_pca, price['saleprice']], axis=1)"
   ]
  },
  {
   "cell_type": "code",
   "execution_count": null,
   "metadata": {},
   "outputs": [],
   "source": [
    "print(len(train_pca))"
   ]
  },
  {
   "cell_type": "code",
   "execution_count": null,
   "metadata": {},
   "outputs": [],
   "source": [
    "#train_pca.isnull().value_counts()\n",
    "train_pca.isnull().sum().sort_values(ascending=False)"
   ]
  },
  {
   "cell_type": "code",
   "execution_count": null,
   "metadata": {},
   "outputs": [],
   "source": [
    "#train_pca = train_pca.drop('index')\n",
    "train_pca.head()"
   ]
  },
  {
   "cell_type": "code",
   "execution_count": null,
   "metadata": {},
   "outputs": [],
   "source": [
    "categorical_feats = train.columns.tolist()\n",
    "categorical_feats = [x for x in categorical_feats if x not in numeric_feats]\n",
    "categorical_feats.remove('saleprice')"
   ]
  },
  {
   "cell_type": "code",
   "execution_count": null,
   "metadata": {},
   "outputs": [],
   "source": [
    "train_cat = train[categorical_feats].reset_index()"
   ]
  },
  {
   "cell_type": "code",
   "execution_count": null,
   "metadata": {},
   "outputs": [],
   "source": [
    "len(train_cat)"
   ]
  },
  {
   "cell_type": "code",
   "execution_count": null,
   "metadata": {},
   "outputs": [],
   "source": [
    "train_cat.head()"
   ]
  },
  {
   "cell_type": "code",
   "execution_count": null,
   "metadata": {},
   "outputs": [],
   "source": [
    "train_cat = train_cat.loc[:, ~(train_cat.columns).isin(['index'])]"
   ]
  },
  {
   "cell_type": "code",
   "execution_count": null,
   "metadata": {},
   "outputs": [],
   "source": [
    "df_final = pd.concat([train_cat, train_pca], axis=1)\n",
    "df_final.head()\n",
    "#print(len(df_final.columns))\n",
    "#pd.concat([df_pca, price['saleprice']], axis=1)"
   ]
  },
  {
   "cell_type": "code",
   "execution_count": null,
   "metadata": {},
   "outputs": [],
   "source": [
    "#create dummies and data/target\n",
    "df_final = pd.get_dummies(df_final)\n",
    "X = df_final.loc[:, ~(df_final.columns).isin(['saleprice'])]\n",
    "#X = train_pca.loc[:, ~(train_pca.columns).isin(['saleprice'])]\n",
    "y = df_final['saleprice']\n",
    "\n",
    "#rmse evaluation function\n",
    "cv = 5\n",
    "\n",
    "def rmse(model):\n",
    "    rmse = np.sqrt(-cross_val_score(\n",
    "        model, X, y, cv=cv, scoring='neg_mean_squared_error'))\n",
    "    return(rmse)"
   ]
  },
  {
   "cell_type": "markdown",
   "metadata": {},
   "source": [
    "### Use Lasso/L1 regularization for feature selection"
   ]
  },
  {
   "cell_type": "code",
   "execution_count": null,
   "metadata": {},
   "outputs": [],
   "source": [
    "#lasso = LassoCV(alphas=[0.0001, 0.001, 0.01, 0.1, 1,\n",
    "#                        0.0005, 0.005, 0.05, 0.5, 5]).fit(X, y)\n",
    "#alpha = lasso.alpha_\n",
    "#print('model: lasso')\n",
    "#print('alpha:', alpha)\n",
    "#print('rmse score mean:', rmse(lasso).mean())\n",
    "#print('rmse max - rmse min:', rmse(lasso).max() - rmse(lasso).min())\n",
    "#print('rmse score array:', rmse(lasso))"
   ]
  },
  {
   "cell_type": "code",
   "execution_count": null,
   "metadata": {},
   "outputs": [],
   "source": [
    "#lasso = LassoCV(alphas=[alpha, alpha*0.25, alpha*0.5, alpha*0.75,\n",
    "#                        alpha*1.25, alpha*1.5, alpha*1.75, alpha*2]).fit(X, y)\n",
    "#alpha = lasso.alpha_\n",
    "#print('model: lasso')\n",
    "#print('alpha: ', alpha)\n",
    "#print('rmse score mean:', rmse(lasso).mean())\n",
    "#print('rmse max - rmse min:', rmse(lasso).max() - rmse(lasso).min())\n",
    "#print('rmse score array:', rmse(lasso))"
   ]
  },
  {
   "cell_type": "code",
   "execution_count": null,
   "metadata": {},
   "outputs": [],
   "source": [
    "#check residual distribution\n",
    "#predicted = lasso.predict(X)\n",
    "#actual = y\n",
    "#residual = actual - predicted\n",
    "\n",
    "#plt.figure(figsize=(8,8))\n",
    "#plt.scatter(predicted, residual)\n",
    "#plt.axhline(y=0, color=color_r)\n",
    "#plt.xlabel('predicted')\n",
    "#plt.ylabel('residual')\n",
    "#plt.title('error distribution')\n",
    "#plt.show()"
   ]
  },
  {
   "cell_type": "code",
   "execution_count": null,
   "metadata": {},
   "outputs": [],
   "source": [
    "#coefs = pd.Series(lasso.coef_, index=X.columns)\n",
    "#n_components = sum(coefs != 0)\n",
    "#print('lasso n_components: ', n_components)\n",
    "\n",
    "#features = pd.DataFrame(lasso.coef_, index=X.columns)\n",
    "#features = features.reset_index()\n",
    "#features.columns = ['var','coef']\n",
    "#features = features[features['coef'] != 0]\n",
    "#features = list(features['var'])\n",
    "\n",
    "#X = X[features]"
   ]
  },
  {
   "cell_type": "markdown",
   "metadata": {},
   "source": [
    "# Modeling"
   ]
  },
  {
   "cell_type": "markdown",
   "metadata": {},
   "source": [
    "### Linear Regression with L2/Ridge Regularization"
   ]
  },
  {
   "cell_type": "code",
   "execution_count": null,
   "metadata": {},
   "outputs": [],
   "source": [
    "#ridge = RidgeCV(\n",
    "#    alphas=[0.01, 0.05, 0.1, 0.5, 1, 5]\n",
    "#).fit(X, y)\n",
    "\n",
    "#alpha = ridge.alpha_\n",
    "#print('model: ridge')\n",
    "#print('alpha:', alpha)\n",
    "#print('rmse score mean:', rmse(ridge).mean())\n",
    "#print('rmse max - rmse min:', rmse(ridge).max() - rmse(ridge).min())\n",
    "#print('rmse score array:', rmse(ridge))"
   ]
  },
  {
   "cell_type": "code",
   "execution_count": null,
   "metadata": {},
   "outputs": [],
   "source": [
    "#ridge = RidgeCV(\n",
    "#    alphas=[alpha, alpha*0.25, alpha*0.5, alpha*0.75,\n",
    "#            alpha*1.25, alpha*1.5, alpha*1.75, alpha*2]\n",
    "#).fit(X, y)\n",
    "#alpha = ridge.alpha_\n",
    "#print('model: ridge')\n",
    "#print('alpha:', alpha)\n",
    "#print('cross_val rmse mean:', rmse(ridge).mean())\n",
    "#print('rmse max - rmse min:', rmse(ridge).max() - rmse(ridge).min())\n",
    "#print('rmse score array:', rmse(ridge))"
   ]
  },
  {
   "cell_type": "markdown",
   "metadata": {},
   "source": [
    "### Linear Regression with L1/Lasso Regularization"
   ]
  },
  {
   "cell_type": "code",
   "execution_count": null,
   "metadata": {},
   "outputs": [],
   "source": [
    "lasso = LassoCV(\n",
    "    alphas=[0.0001, 0.0005, 0.001, 0.005, 0.01, 0.05, 0.1, 0.5,1, 5]\n",
    ").fit(X, y)\n",
    "alpha = lasso.alpha_\n",
    "print('model: lasso')\n",
    "print('alpha: ', alpha)\n",
    "print('rmse score mean:', rmse(lasso).mean())\n",
    "print('rmse max - rmse min:', rmse(lasso).max() - rmse(lasso).min())\n",
    "print('rmse score array:', rmse(lasso))"
   ]
  },
  {
   "cell_type": "code",
   "execution_count": null,
   "metadata": {},
   "outputs": [],
   "source": [
    "lasso = LassoCV(alphas=[alpha,\n",
    "                        alpha*0.25, alpha*0.5, alpha*0.75,\n",
    "                        alpha*1.25, alpha*1.5, alpha*1.75, alpha*2])\n",
    "\n",
    "lasso.fit(X, y)\n",
    "alpha = lasso.alpha_\n",
    "print('model: lasso')\n",
    "print('alpha: ', alpha)\n",
    "print('rmse score mean:', rmse(lasso).mean())\n",
    "print('rmse max - rmse min:', rmse(lasso).max() - rmse(lasso).min())\n",
    "print('rmse score array:', rmse(lasso))"
   ]
  },
  {
   "cell_type": "markdown",
   "metadata": {},
   "source": [
    "### Random Forest Regressor"
   ]
  },
  {
   "cell_type": "code",
   "execution_count": null,
   "metadata": {
    "scrolled": false
   },
   "outputs": [],
   "source": [
    "rfr = ensemble.RandomForestRegressor()\n",
    "params = [{'n_estimators':[10, 50, 100, 250, 500],\n",
    "           'max_features':[1, int(n_components/2), n_components],\n",
    "           'max_depth':[10,20,30,40]}]\n",
    "\n",
    "start_time = time.clock()\n",
    "grid = GridSearchCV(\n",
    "    estimator=rfr,\n",
    "    param_grid=params,\n",
    "    scoring='neg_mean_squared_error'\n",
    ").fit(X,y)\n",
    "\n",
    "print('params:', grid.best_params_)\n",
    "print('runtime: ', time.clock() - start_time)"
   ]
  },
  {
   "cell_type": "code",
   "execution_count": null,
   "metadata": {},
   "outputs": [],
   "source": [
    "n_estimators = grid.best_params_.get('n_estimators')\n",
    "max_depth = grid.best_params_.get('max_depth')\n",
    "max_features = grid.best_params_.get('max_features')\n",
    "\n",
    "start_time = time.clock()\n",
    "rfr = ensemble.RandomForestRegressor(\n",
    "    n_estimators=n_estimators,\n",
    "    max_depth=max_depth,\n",
    "    max_features=max_features\n",
    ").fit(X, y)\n",
    "\n",
    "print('model: random forest')\n",
    "print('rmse score mean:', rmse(rfr).mean())\n",
    "print('rmse max - rmse min:', rmse(rfr).max() - rmse(rfr).min())\n",
    "print('rmse score array:', rmse(rfr))\n",
    "print('runtime: ', time.clock() - start_time)"
   ]
  },
  {
   "cell_type": "markdown",
   "metadata": {},
   "source": [
    "### Support Vector Regressor"
   ]
  },
  {
   "cell_type": "code",
   "execution_count": null,
   "metadata": {},
   "outputs": [],
   "source": [
    "#svr = SVR()\n",
    "#params = [{'C':[0.0001, 0.0005, 0.001, 0.005, 0.01, 0.05, 1, 5, 10],\n",
    "#           'kernel':['linear']}]\n",
    "\n",
    "#start_time = time.clock()\n",
    "#grid = GridSearchCV(\n",
    "#    estimator=svr,\n",
    "#    param_grid=params,\n",
    "#    scoring='neg_mean_squared_error'\n",
    "#).fit(X, y)\n",
    "\n",
    "#print('params:', grid.best_params_)\n",
    "#print('runtime: ', time.clock() - start_time)"
   ]
  },
  {
   "cell_type": "code",
   "execution_count": null,
   "metadata": {},
   "outputs": [],
   "source": [
    "#c = grid.best_params_.get('C')\n",
    "#start_time = time.clock()\n",
    "#svr = SVR(C=c, kernel='linear').fit(X, y)\n",
    "\n",
    "#print('model: support vector')\n",
    "#print('cross_val rmse mean:', rmse(svr).mean())\n",
    "#print('rmse max - rmse min:', rmse(svr).max() - rmse(svr).min())\n",
    "#print('rmse score array:', rmse(svr))\n",
    "#print('runtime: ', time.clock() - start_time"
   ]
  },
  {
   "cell_type": "markdown",
   "metadata": {},
   "source": [
    "## XGBoost Regressor"
   ]
  },
  {
   "cell_type": "markdown",
   "metadata": {},
   "source": [
    "### Vanilla XGB"
   ]
  },
  {
   "cell_type": "code",
   "execution_count": null,
   "metadata": {},
   "outputs": [],
   "source": [
    "start_time = time.clock()\n",
    "xgbr = XGBRegressor().fit(X, y)\n",
    "print('model: vanilla xgb_rgr')\n",
    "print('cross_val rmse mean:', rmse(xgbr).mean())\n",
    "print('rmse max - rmse min:', rmse(xgbr).max() - rmse(xgbr).min())\n",
    "print('rmse score array:', rmse(xgbr))\n",
    "print('runtime: ', time.clock() - start_time)"
   ]
  },
  {
   "cell_type": "code",
   "execution_count": null,
   "metadata": {},
   "outputs": [],
   "source": [
    "start_time = time.clock()\n",
    "xgbr = XGBRegressor(\n",
    "    n_estimators=1000,\n",
    "    learning_rate=0.05\n",
    ").fit(X, y, verbose=False)\n",
    "\n",
    "print('model: vanilla xgb_rgr')\n",
    "print('cross_val rmse mean:', rmse(xgbr).mean())\n",
    "print('rmse max - rmse min:', rmse(xgbr).max() - rmse(xgbr).min())\n",
    "print('rmse score array:', rmse(xgbr))\n",
    "print('runtime: ', time.clock() - start_time)"
   ]
  },
  {
   "cell_type": "markdown",
   "metadata": {},
   "source": [
    "### Tune Parameters"
   ]
  },
  {
   "cell_type": "code",
   "execution_count": null,
   "metadata": {},
   "outputs": [],
   "source": [
    "xgbr = XGBRegressor()\n",
    "params = [{'booster':['gbtree', 'gblinear'],\n",
    "           'max_depth':[2, 3, 5, 10],\n",
    "           'learning_rate':[0.1, 0.05, 0.01],\n",
    "           'subsample':[0.25, 0.5, 0.75, 1]}]\n",
    "\n",
    "start_time = time.clock()\n",
    "grid = GridSearchCV(\n",
    "    estimator=xgbr,\n",
    "    param_grid=params,\n",
    "    scoring='neg_mean_squared_error'\n",
    ").fit(X,y)\n",
    "\n",
    "print('params:', grid.best_params_)\n",
    "print('runtime: ', time.clock() - start_time)"
   ]
  },
  {
   "cell_type": "code",
   "execution_count": null,
   "metadata": {},
   "outputs": [],
   "source": [
    "booster = grid.best_params_.get('booster')\n",
    "learning_rate = grid.best_params_.get('learning_rate')\n",
    "max_depth = grid.best_params_.get('max_depth')\n",
    "subsample = grid.best_params_.get('subsample')\n",
    "\n",
    "start_time = time.clock()\n",
    "xgb_rgr = XGBRegressor(\n",
    "    n_estimators=1000,\n",
    "    learning_rate=learning_rate,\n",
    "    max_depth=max_depth,\n",
    "    subsample=subsample\n",
    ").fit(X, y, verbose=False)\n",
    "#xgb_rgr.fit(X_train, y_train, early_stopping_rounds=5,\n",
    "#            eval_set=[(X_test, y_test)], verbose=False)\n",
    "\n",
    "print('model: xgboost regressor')\n",
    "print('cross_val rmse mean:', rmse(xgbr).mean())\n",
    "print('rmse max - rmse min:', rmse(xgbr).max() - rmse(xgbr).min())\n",
    "print('rmse score array:', rmse(xgbr))\n",
    "print('runtime: ', time.clock() - start_time)"
   ]
  },
  {
   "cell_type": "code",
   "execution_count": null,
   "metadata": {},
   "outputs": [],
   "source": []
  }
 ],
 "metadata": {
  "kernelspec": {
   "display_name": "Python 3",
   "language": "python",
   "name": "python3"
  },
  "language_info": {
   "codemirror_mode": {
    "name": "ipython",
    "version": 3
   },
   "file_extension": ".py",
   "mimetype": "text/x-python",
   "name": "python",
   "nbconvert_exporter": "python",
   "pygments_lexer": "ipython3",
   "version": "3.6.5"
  }
 },
 "nbformat": 4,
 "nbformat_minor": 2
}
